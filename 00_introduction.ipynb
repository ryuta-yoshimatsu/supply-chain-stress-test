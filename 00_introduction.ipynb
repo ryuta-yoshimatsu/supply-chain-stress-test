{
 "cells": [
  {
   "cell_type": "markdown",
   "metadata": {
    "application/vnd.databricks.v1+cell": {
     "cellMetadata": {},
     "inputWidgets": {},
     "nuid": "b104a94d-d149-4182-861b-56d67c32e8a5",
     "showTitle": false,
     "tableResultSettingsMap": {},
     "title": ""
    }
   },
   "source": [
    "This solution accelerator notebook is available at [Databricks Industry Solutions](https://github.com/databricks-industry-solutions/)."
   ]
  },
  {
   "cell_type": "markdown",
   "metadata": {
    "application/vnd.databricks.v1+cell": {
     "cellMetadata": {},
     "inputWidgets": {},
     "nuid": "2409d283-aed3-4833-982b-952e671fda54",
     "showTitle": false,
     "tableResultSettingsMap": {},
     "title": ""
    }
   },
   "source": [
    "<img src='https://github.com/databricks-industry-solutions/.github/raw/main/profile/solacc_logo_wide.png' width=\"1000\" ></img>\n",
    "\n",
    "# Stress Test Supply Chain Networks at Scale\n",
    "\n",
    "Numerous past disruptions have exposed the fragility of global supply chains. In response, companies have adopted strategies such as reshoring production and stockpiling critical materials. While these measures aim to improve continuity, they often lead to higher costs and increased financial risk—especially when implemented at the last minute. To better anticipate and manage such challenges, a well-cited [paper](https://dspace.mit.edu/handle/1721.1/101782) proposes stress testing supply chains using digital twins. By simulating a range of disruption scenarios, businesses can assess potential impacts, uncover vulnerabilities, and make informed, proactive decisions."
   ]
  },
  {
   "cell_type": "markdown",
   "metadata": {
    "application/vnd.databricks.v1+cell": {
     "cellMetadata": {},
     "inputWidgets": {},
     "nuid": "8f7a1c55-6353-4fc8-93a4-0693faafbb5d",
     "showTitle": false,
     "tableResultSettingsMap": {},
     "title": ""
    }
   },
   "source": [
    "<img src=\"images/cartoon.png\" alt=\"Simplified Supply Chain Network\" width=\"1000\">"
   ]
  },
  {
   "cell_type": "markdown",
   "metadata": {
    "application/vnd.databricks.v1+cell": {
     "cellMetadata": {},
     "inputWidgets": {},
     "nuid": "813c5df3-7fae-479b-af66-14e42791aad9",
     "showTitle": false,
     "tableResultSettingsMap": {},
     "title": ""
    }
   },
   "source": [
    "## How does this method work?\n",
    "\n",
    "The methodology outlined in the paper—and implemented in this solution accelerator—models the supply chain as a directed graph of materials, plants, and flows. For each node, we collect data on inventory levels, production capacity, estimated time-to-recover (TTR) after a disruption, and, for product nodes, profit margins. To simulate a specific disruption scenario, the affected node(s) are removed from the graph for the duration of their time-to-recover (TTR). We then solve a linear optimization problem that reallocates inventory, reroutes materials, and idles plants to minimize lost profit—or another selected metric such as volume or sales. This simulation is executed at scale across a comprehensive set of disruption scenarios. The resulting impacts are ranked from negligible to catastrophic, revealing opportunities to revisit and optimize investment strategies—either to enhance network resiliency or to eliminate unnecessary costs.\n"
   ]
  },
  {
   "cell_type": "markdown",
   "metadata": {
    "application/vnd.databricks.v1+cell": {
     "cellMetadata": {},
     "inputWidgets": {},
     "nuid": "ffb7e04e-30e6-4d3e-aeb1-fa5aed966342",
     "showTitle": false,
     "tableResultSettingsMap": {},
     "title": ""
    }
   },
   "source": [
    "## Why this method for stress-testing?\n",
    "\n",
    "First, this method avoids the need for probability estimation, allowing business stakeholders to focus on visible vulnerabilities rather than guessing the likelihood of rare events. Second, because it is optimisation-based and relies only on operational data, it scales to thousands of suppliers and can be refreshed weekly—or even daily. Third, the risk exposure metric uncovers hidden, low-spend suppliers whose failure could severely disrupt production, enabling smarter prioritisation of inventory buffers or dual sourcing. Fourth, the time-to-survive (TTS) metric highlights where time-to-recover (TTR) estimates may be unreliable, helping guide supplier discussions. Collectively, these advantages reduce analysis time from years to days and ensure mitigation efforts target the most critical risks."
   ]
  },
  {
   "cell_type": "markdown",
   "metadata": {
    "application/vnd.databricks.v1+cell": {
     "cellMetadata": {},
     "inputWidgets": {},
     "nuid": "c59bcde7-555a-4a88-8f0c-0e86b6d97f86",
     "showTitle": false,
     "tableResultSettingsMap": {},
     "title": ""
    }
   },
   "source": [
    "## Which tools do we use?\n",
    "\n",
    "This method is flexible and can be implemented with many technologies. In this solution accelerator we pair the modelling library [Pyomo](https://pyomo.readthedocs.io/en/stable/index.html) with the solver [HiGHS](https://github.com/ERGO-Code/HiGHS). Both are open-source and licensed for commercial use.\n",
    "\n",
    "**Pyomo** lets you express linear-optimisation models in clear, algebraic Python syntax, so business rules translate directly into code. It connects to numerous commercial and open-source solvers, enabling rapid prototyping and seamless scaling. For the simulations, we chose Pyomo because it's a powerful python optimization framework that acts as a universal translator between your business problem and mathematical solvers - think of solvers as specialized "math engines" that actually crunch the numbers to find optimal solutions for your 5,000-warehouse network. Pyomo allows you to write your supply chain optimization model once using business-friendly syntax, then seamlessly run it with different solvers: you can start with free open-source solvers like CBC or GLPK to prove the concept and demonstrate value to stakeholders at zero cost, then later upgrade to high-performance commercial solvers like Gurobi or CPLEX (which can be 10-100x faster) when or if  speed becomes business-critical - all without changing a single line of your optimization code or reformulating your business constraints. This flexibility means you can begin with a proof-of-concept that costs nothing but time, build confidence in the approach and ROI, then scale to production-grade performance by simply switching the solver engine while keeping all your investment in model development intact. ..Importantly, you retain complete ownership and control of your optimization models, business logic, and intellectual property - there's no vendor lock-in or proprietary formats that could limit your future flexibility or create dependencies on specific companies. \n",
    "\n",
    "**HiGHS** provides state-of-the-art dual/primal simplex and interior-point algorithms. It often matches or outperforms commercial solvers on large, sparse LPs, exploits multicore hardware, and supports fast warm-starts.\n",
    "\n",
    "To run thousands of distributed scenarios at scale, we orchestrate Pyomo + HiGHS with [Ray](https://docs.databricks.com/aws/en/machine-learning/ray/), a lightweight framework for elastic, fault-tolerant parallel computation."
   ]
  },
  {
   "cell_type": "markdown",
   "metadata": {
    "application/vnd.databricks.v1+cell": {
     "cellMetadata": {},
     "inputWidgets": {},
     "nuid": "c9043915-e329-488f-8eb1-e2bf23bb5209",
     "showTitle": false,
     "tableResultSettingsMap": {},
     "title": ""
    }
   },
   "source": [
    "The remaining notebooks provide a detailed implementation of the solution and conduct a comprehensive analysis on Databricks.\n",
    "\n",
    "* In `01_operational_data`, we generate a synthetic supply chain network along with corresponding operational data, and review the network's properties and data requirements.\n",
    "* In `02_stress_testing (small network)`, we demonstrate how to run stress tests on a small supply chain network and analyze the results.\n",
    "* In `03_stress_testing (large network)`, we scale up the approach to perform stress testing on a larger supply chain network.\n",
    "* In the optional notebook `04_appendix`, we delve into the mathematical formulation of the optimization problem, define the variables, and discuss key assumptions.\n"
   ]
  },
  {
   "cell_type": "markdown",
   "metadata": {
    "application/vnd.databricks.v1+cell": {
     "cellMetadata": {},
     "inputWidgets": {},
     "nuid": "db000bab-b77c-4cff-a125-02aa90d5585b",
     "showTitle": false,
     "tableResultSettingsMap": {},
     "title": ""
    }
   },
   "source": [
    "&copy; 2025 Databricks, Inc. All rights reserved. The source in this notebook is provided subject to the Databricks License [https://databricks.com/db-license-source].  All included or referenced third party libraries are subject to the licenses set forth below.\n",
    "\n",
    "| library                                | description             | license    | source                                              |\n",
    "|----------------------------------------|-------------------------|------------|-----------------------------------------------------|\n",
    "| pyomo | An object-oriented algebraic modeling language in Python for structured optimization problems | BSD | https://pypi.org/project/pyomo/\n",
    "| highspy | Linear optimization solver (HiGHS) | MIT | https://pypi.org/project/highspy/"
   ]
  }
 ],
 "metadata": {
  "application/vnd.databricks.v1+notebook": {
   "computePreferences": null,
   "dashboards": [],
   "environmentMetadata": null,
   "inputWidgetPreferences": null,
   "language": "python",
   "notebookMetadata": {
    "pythonIndentUnit": 2
   },
   "notebookName": "00_introduction",
   "widgets": {}
  },
  "language_info": {
   "name": "python"
  }
 },
 "nbformat": 4,
 "nbformat_minor": 0
}
