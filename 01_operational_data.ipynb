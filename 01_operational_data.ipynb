{
 "cells": [
  {
   "cell_type": "markdown",
   "metadata": {
    "application/vnd.databricks.v1+cell": {
     "cellMetadata": {
      "byteLimit": 2048000,
      "rowLimit": 10000
     },
     "inputWidgets": {},
     "nuid": "4e530258-27c0-4d6e-858a-a06e2f6722d3",
     "showTitle": false,
     "tableResultSettingsMap": {},
     "title": ""
    }
   },
   "source": [
    "This solution accelerator notebook is available at [Databricks Industry Solutions](https://github.com/databricks-industry-solutions/)."
   ]
  },
  {
   "cell_type": "markdown",
   "metadata": {
    "application/vnd.databricks.v1+cell": {
     "cellMetadata": {
      "byteLimit": 2048000,
      "rowLimit": 10000
     },
     "inputWidgets": {},
     "nuid": "3764e397-d15b-46f1-b443-3fe34b1b73ea",
     "showTitle": false,
     "tableResultSettingsMap": {},
     "title": ""
    }
   },
   "source": [
    "# Prepare the Dataset\n",
    "\n",
    "This notebook generates a synthetic three-tier supply chain network along with operational data, which will be used in later notebooks for stress testing. We will review the properties of the supply chain network and the requirements for the operational data."
   ]
  },
  {
   "cell_type": "markdown",
   "metadata": {
    "application/vnd.databricks.v1+cell": {
     "cellMetadata": {
      "byteLimit": 2048000,
      "rowLimit": 10000
     },
     "inputWidgets": {},
     "nuid": "a1fa350e-454a-48b6-8e50-040f4e5b5812",
     "showTitle": false,
     "tableResultSettingsMap": {},
     "title": ""
    }
   },
   "source": [
    "## Cluster Configuration\n",
    "This notebook was tested on the following Databricks cluster configuration:\n",
    "- **Databricks Runtime Version:** 16.4 LTS ML (includes Apache Spark 3.5.2, Scala 2.12)\n",
    "- **Single Node** \n",
    "    - Azure: Standard_DS4_v2 (28 GB Memory, 8 Cores)\n",
    "    - AWS: m5d.2xlarge (32 GB Memory, 8 Cores)\n",
    "- **Photon Acceleration:** Disabled (Photon boosts Apache Spark workloads; not all ML workloads will see an improvement)"
   ]
  },
  {
   "cell_type": "code",
   "execution_count": 0,
   "metadata": {
    "application/vnd.databricks.v1+cell": {
     "cellMetadata": {
      "byteLimit": 2048000,
      "rowLimit": 10000
     },
     "inputWidgets": {},
     "nuid": "28d996f9-b2e1-4da4-9cf4-659e1ea5f817",
     "showTitle": true,
     "tableResultSettingsMap": {},
     "title": "Install requirements"
    }
   },
   "outputs": [],
   "source": [
    "%pip install -r ./requirements.txt --quiet\n",
    "dbutils.library.restartPython()"
   ]
  },
  {
   "cell_type": "code",
   "execution_count": 0,
   "metadata": {
    "application/vnd.databricks.v1+cell": {
     "cellMetadata": {
      "byteLimit": 2048000,
      "rowLimit": 10000
     },
     "inputWidgets": {},
     "nuid": "54fea12b-db72-4697-8b52-10d7324a6303",
     "showTitle": true,
     "tableResultSettingsMap": {},
     "title": "Import modules"
    }
   },
   "outputs": [],
   "source": [
    "import random\n",
    "import numpy as np\n",
    "import pandas as pd\n",
    "import scripts.utils as utils"
   ]
  },
  {
   "cell_type": "markdown",
   "metadata": {
    "application/vnd.databricks.v1+cell": {
     "cellMetadata": {
      "byteLimit": 2048000,
      "rowLimit": 10000
     },
     "inputWidgets": {},
     "nuid": "0bdea327-34dd-4b51-87c2-06a23a3deff8",
     "showTitle": false,
     "tableResultSettingsMap": {},
     "title": ""
    }
   },
   "source": [
    "## Generate Supply Chain Network and Data\n",
    "\n",
    "In the real world, the supply chain network already exists, so the primary task is to collect data and map the network. However, in this solution accelerator, we generate a synthetic dataset for the entire supply chain. This allows us to control the setup and better understand the methodology in depth.\n",
    "\n",
    "Let’s generate a three-tier supply chain network consisting of sub-suppliers (Tier 3), direct suppliers (Tier 2), and finished-goods plants (Tier 1). The utility function `utils.generate_data` outputs the network topology (directed edges) and key operational parameters, including inventory, capacity, demand, and profit margins."
   ]
  },
  {
   "cell_type": "code",
   "execution_count": 0,
   "metadata": {
    "application/vnd.databricks.v1+cell": {
     "cellMetadata": {
      "byteLimit": 2048000,
      "rowLimit": 10000
     },
     "inputWidgets": {},
     "nuid": "8eca1d29-8996-4725-8b65-124ab19823e4",
     "showTitle": false,
     "tableResultSettingsMap": {},
     "title": ""
    }
   },
   "outputs": [],
   "source": [
    "# Generate a synthetic 3-tier supply chain network dataset for optimization\n",
    "# N1: number of product nodes\n",
    "# N2: number of direct supplier nodes\n",
    "# N3: number of sub-supplier nodes\n",
    "dataset = utils.generate_data(N1=5, N2=10, N3=20) # DO NOT CHANGE"
   ]
  },
  {
   "cell_type": "markdown",
   "metadata": {
    "application/vnd.databricks.v1+cell": {
     "cellMetadata": {
      "byteLimit": 2048000,
      "rowLimit": 10000
     },
     "inputWidgets": {},
     "nuid": "dbfc8053-a771-4502-a73f-620cf64a262e",
     "showTitle": false,
     "tableResultSettingsMap": {},
     "title": ""
    }
   },
   "source": [
    "Let's visualize the network."
   ]
  },
  {
   "cell_type": "code",
   "execution_count": 0,
   "metadata": {
    "application/vnd.databricks.v1+cell": {
     "cellMetadata": {
      "byteLimit": 2048000,
      "rowLimit": 10000
     },
     "inputWidgets": {},
     "nuid": "1bfd7fd8-339c-403b-af22-d33e366dbd4f",
     "showTitle": false,
     "tableResultSettingsMap": {},
     "title": ""
    }
   },
   "outputs": [],
   "source": [
    "# Visualizes the 3-tier network\n",
    "utils.visualize_network(dataset)"
   ]
  },
  {
   "cell_type": "markdown",
   "metadata": {
    "application/vnd.databricks.v1+cell": {
     "cellMetadata": {
      "byteLimit": 2048000,
      "rowLimit": 10000
     },
     "inputWidgets": {},
     "nuid": "f0d77d14-ba92-4a3d-b14d-2247ed7f25b7",
     "showTitle": false,
     "tableResultSettingsMap": {},
     "title": ""
    }
   },
   "source": [
    "- Product (finished-goods plants: ●) at the top\n",
    "- Tier 2 (direct suppliers: ■) in the middle\n",
    "- Tier 3 (sub-suppliers: ▲) at the bottom\n",
    "- Nodes with the same color produce and supply the same `material_type`.\n",
    "- Grey is used for Product nodes that have no material-type code.\n",
    "- Edges run from bottom to top, illustrating the flow of materials (Tier 3 ➜ Tier 2 ➜ Product)."
   ]
  },
  {
   "cell_type": "markdown",
   "metadata": {
    "application/vnd.databricks.v1+cell": {
     "cellMetadata": {
      "byteLimit": 2048000,
      "rowLimit": 10000
     },
     "inputWidgets": {},
     "nuid": "63dec565-5ae8-41f2-874d-dccde069a134",
     "showTitle": false,
     "tableResultSettingsMap": {},
     "title": ""
    }
   },
   "source": [
    "## Operational Data\n",
    "\n",
    "The operational data required to run stress tests on your supply chain network depends largely on how the optimization problem is formulated—that is, the objective function and its constraints. In this solution accelerator, we follow the formulation presented in this [paper](https://dspace.mit.edu/handle/1721.1/101782). The table below outlines the data elements used in this approach.\n",
    "\n",
    "For more details on the problem formulation, variable definitions, and key assumptions, refer to the paper or the notebook `04_appendix`."
   ]
  },
  {
   "cell_type": "markdown",
   "metadata": {
    "application/vnd.databricks.v1+cell": {
     "cellMetadata": {
      "byteLimit": 2048000,
      "rowLimit": 10000
     },
     "inputWidgets": {},
     "nuid": "79203386-45a5-41ff-b0a6-4181200f249a",
     "showTitle": false,
     "tableResultSettingsMap": {},
     "title": ""
    }
   },
   "source": [
    " Variable                  | What it represents                                                                                 |\n",
    " ------------------------- | -------------------------------------------------------------------------------------------------- |\n",
    " **tier1 / tier2 / tier3** | Lists of node IDs in each tier.                                                                    |\n",
    " **edges**                 | Directed links `(source, target)` showing which node supplies which.                               |\n",
    " **material\\_type**  | List of all material types. \n",
    " **supplier\\_material\\_type**  | Material type each supplier produces and supplies.                                    |\n",
    " **f**                     | Profit margin for each Tier 1 node’s finished product.                                             |\n",
    " **s**                     | On-hand inventory units at every node.                                                             |\n",
    " **d**                     | Demand per time unit for Tier 1 products.                                       |\n",
    " **c**                     | Production capacity per time unit at each node.                                                          |\n",
    " **r**                     | Number of material types (k) required to make one unit of node j.              |\n",
    " **N\\_minus**              | For each node j (Tier 1 or 2), the set of material types it requires.                              |\n",
    " **N\\_plus**               | For each supplier i (Tier 2 or 3), the set of downstream nodes j it feeds.                     |\n",
    " **P**                     | For each `(j, material_part)` pair, a list of upstream suppliers i that provides it (multi-sourcing view). |"
   ]
  },
  {
   "cell_type": "markdown",
   "metadata": {
    "application/vnd.databricks.v1+cell": {
     "cellMetadata": {
      "byteLimit": 2048000,
      "rowLimit": 10000
     },
     "inputWidgets": {},
     "nuid": "aaa2e691-cd1c-45a7-9cae-9aed2bd82b4e",
     "showTitle": false,
     "tableResultSettingsMap": {},
     "title": ""
    }
   },
   "source": [
    "Let's take a peek at the `dataset` dictionary that contains all the data we need."
   ]
  },
  {
   "cell_type": "code",
   "execution_count": 0,
   "metadata": {
    "application/vnd.databricks.v1+cell": {
     "cellMetadata": {
      "byteLimit": 2048000,
      "rowLimit": 10000
     },
     "inputWidgets": {},
     "nuid": "94a1175a-f7b3-4c34-bda3-738df955915b",
     "showTitle": false,
     "tableResultSettingsMap": {},
     "title": ""
    }
   },
   "outputs": [],
   "source": [
    "for key in dataset.keys():\n",
    "  print(f\"{key}: {dataset[key]}\", \"\\n\")"
   ]
  },
  {
   "cell_type": "markdown",
   "metadata": {
    "application/vnd.databricks.v1+cell": {
     "cellMetadata": {
      "byteLimit": 2048000,
      "rowLimit": 10000
     },
     "inputWidgets": {},
     "nuid": "63b337db-27ed-457d-9463-2d727617048b",
     "showTitle": false,
     "tableResultSettingsMap": {},
     "title": ""
    }
   },
   "source": [
    "## Wrap Up\n",
    "\n",
    "In this notebook, we generated a synthetic three-tier supply chain network along with the corresponding operational data. We also reviewed the structure of the network and the key requirements for the data.\n",
    "\n",
    "In the next notebook, `02_stress_testing (small network)`, we will run multiple stress tests on the small network constructed here."
   ]
  },
  {
   "cell_type": "markdown",
   "metadata": {
    "application/vnd.databricks.v1+cell": {
     "cellMetadata": {
      "byteLimit": 2048000,
      "rowLimit": 10000
     },
     "inputWidgets": {},
     "nuid": "099e48ac-a0db-4d2e-9ee5-f7e7229326f8",
     "showTitle": false,
     "tableResultSettingsMap": {},
     "title": ""
    }
   },
   "source": [
    "&copy; 2025 Databricks, Inc. All rights reserved. The source in this notebook is provided subject to the Databricks License [https://databricks.com/db-license-source].  All included or referenced third party libraries are subject to the licenses set forth below.\n",
    "\n",
    "| library                                | description             | license    | source                                              |\n",
    "|----------------------------------------|-------------------------|------------|-----------------------------------------------------|\n",
    "| pyomo | An object-oriented algebraic modeling language in Python for structured optimization problems | BSD | https://pypi.org/project/pyomo/\n",
    "| highspy | Linear optimization solver (HiGHS) | MIT | https://pypi.org/project/highspy/"
   ]
  }
 ],
 "metadata": {
  "application/vnd.databricks.v1+notebook": {
   "computePreferences": null,
   "dashboards": [],
   "environmentMetadata": null,
   "inputWidgetPreferences": null,
   "language": "python",
   "notebookMetadata": {
    "pythonIndentUnit": 2
   },
   "notebookName": "01_operational_data",
   "widgets": {}
  },
  "language_info": {
   "name": "python"
  }
 },
 "nbformat": 4,
 "nbformat_minor": 0
}
