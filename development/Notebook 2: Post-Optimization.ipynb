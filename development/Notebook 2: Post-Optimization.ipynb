{
 "cells": [
  {
   "cell_type": "code",
   "execution_count": 0,
   "metadata": {
    "application/vnd.databricks.v1+cell": {
     "cellMetadata": {
      "byteLimit": 2048000,
      "rowLimit": 10000
     },
     "inputWidgets": {},
     "nuid": "d055033d-0cf0-425c-9e94-7b97064d1a44",
     "showTitle": false,
     "tableResultSettingsMap": {},
     "title": ""
    }
   },
   "outputs": [],
   "source": [
    "%run \"./init\""
   ]
  },
  {
   "cell_type": "code",
   "execution_count": 0,
   "metadata": {
    "application/vnd.databricks.v1+cell": {
     "cellMetadata": {
      "byteLimit": 2048000,
      "rowLimit": 10000
     },
     "inputWidgets": {},
     "nuid": "b22e6175-6e1a-4e45-89e8-d5871fc864db",
     "showTitle": true,
     "tableResultSettingsMap": {},
     "title": "Part 1: Load Results from MLflow"
    }
   },
   "outputs": [],
   "source": [
    "import mlflow\n",
    "import pandas as pd\n",
    "\n",
    "client = mlflow.tracking.MlflowClient()\n",
    "experiment = client.get_experiment_by_name(experiment_name)\n",
    "\n",
    "if experiment is None:\n",
    "    display(f\"Experiment '{experiment_name}' does not exist. Please run Notebook 1.\")\n",
    "else:\n",
    "    runs = client.search_runs(experiment.experiment_id)\n",
    "\n",
    "    # Extract relevant metrics\n",
    "    df = pd.DataFrame([{\n",
    "        \"run_id\": r.info.run_id,\n",
    "        \"scenario\": r.data.params.get(\"scenario\"),\n",
    "        \"factory_down\": r.data.params.get(\"factory_down\"),\n",
    "        \"cost\": r.data.metrics.get(\"total_cost\"),\n",
    "        \"unmet\": r.data.metrics.get(\"total_unmet_demand\")\n",
    "    } for r in runs])\n",
    "    df = df.sort_values(\"cost\")\n",
    "    display(df)"
   ]
  },
  {
   "cell_type": "code",
   "execution_count": 0,
   "metadata": {
    "application/vnd.databricks.v1+cell": {
     "cellMetadata": {
      "byteLimit": 2048000,
      "rowLimit": 10000
     },
     "inputWidgets": {},
     "nuid": "962c6476-b8f0-4417-97e3-327d8a759224",
     "showTitle": true,
     "tableResultSettingsMap": {},
     "title": "Part 2: Regret Calculation"
    }
   },
   "outputs": [],
   "source": [
    "baseline_cost = df[df[\"scenario\"] == \"Baseline\"][\"cost\"].values[0]\n",
    "df[\"regret\"] = df[\"cost\"] - baseline_cost\n",
    "df.sort_values(\"regret\", ascending=False)"
   ]
  },
  {
   "cell_type": "code",
   "execution_count": 0,
   "metadata": {
    "application/vnd.databricks.v1+cell": {
     "cellMetadata": {
      "byteLimit": 2048000,
      "rowLimit": 10000
     },
     "inputWidgets": {},
     "nuid": "bd72c635-0fc2-4467-9aa0-45a224bde778",
     "showTitle": true,
     "tableResultSettingsMap": {},
     "title": "Parte 3: Plot Regrets"
    }
   },
   "outputs": [],
   "source": [
    "import matplotlib.pyplot as plt\n",
    "\n",
    "plt.bar(df[\"scenario\"], df[\"regret\"])\n",
    "plt.ylabel(\"Regret (vs baseline)\")\n",
    "plt.title(\"Worst-case cost increase per disruption scenario\")\n",
    "plt.xticks(rotation=45)\n",
    "plt.grid(True)\n",
    "plt.tight_layout()\n",
    "plt.show()"
   ]
  },
  {
   "cell_type": "code",
   "execution_count": 0,
   "metadata": {
    "application/vnd.databricks.v1+cell": {
     "cellMetadata": {
      "byteLimit": 2048000,
      "rowLimit": 10000
     },
     "inputWidgets": {},
     "nuid": "be72f5d8-ed4f-4afb-b7d7-5a280d64ada9",
     "showTitle": false,
     "tableResultSettingsMap": {},
     "title": ""
    }
   },
   "outputs": [],
   "source": [
    "def find_tts(factory_down, max_days=10):\n",
    "    for t in range(1, max_days + 1):\n",
    "        cap = factory_capacity.copy()\n",
    "        extra = extra_capacity.copy()\n",
    "        cap[factory_down] = 0\n",
    "        extra[factory_down] = 0\n",
    "        \n",
    "        model = build_model(cap, extra)\n",
    "        solver = pyo.SolverFactory(\"cbc\")\n",
    "        solver.solve(model)\n",
    "        unmet = sum(model.unmet[c].value for c in model.C)\n",
    "        \n",
    "        if unmet > 0:\n",
    "            return t - 1  # Last survivable period\n",
    "    return max_days\n",
    "\n",
    "tts_results = {f: find_tts(f) for f in factories}\n",
    "tts_results\n"
   ]
  },
  {
   "cell_type": "code",
   "execution_count": 0,
   "metadata": {
    "application/vnd.databricks.v1+cell": {
     "cellMetadata": {
      "byteLimit": 2048000,
      "rowLimit": 10000
     },
     "inputWidgets": {},
     "nuid": "b943fbdf-8f61-42e6-8a34-4184da28f480",
     "showTitle": true,
     "tableResultSettingsMap": {},
     "title": "Part 4: Mitigation Simulation – Adding Extra Inventory"
    }
   },
   "outputs": [],
   "source": [
    "# We'll simulate pre-positioning 20 units of safety stock at F1 and F2\n",
    "\n",
    "def run_mitigation(factory_down, safety_stock):\n",
    "    cap = factory_capacity.copy()\n",
    "    extra = extra_capacity.copy()\n",
    "    \n",
    "    # Apply disruption\n",
    "    cap[factory_down] = 0\n",
    "    extra[factory_down] = 0\n",
    "    \n",
    "    # Add safety stock as extra capacity at the other factory\n",
    "    for f in factories:\n",
    "        if f != factory_down:\n",
    "            extra[f] += safety_stock\n",
    "    \n",
    "    model = build_model(cap, extra)\n",
    "    solver = pyo.SolverFactory(\"cbc\")\n",
    "    solver.solve(model)\n",
    "    \n",
    "    cost = pyo.value(model.obj)\n",
    "    unmet = sum(model.unmet[c].value for c in model.C)\n",
    "    return {\"factory_down\": factory_down, \"unmet\": unmet, \"cost\": cost}\n",
    "\n",
    "# Test mitigation for both factories\n",
    "mitigation_f1 = run_mitigation(\"F1\", safety_stock=20)\n",
    "mitigation_f2 = run_mitigation(\"F2\", safety_stock=20)\n",
    "\n",
    "mitigation_f1, mitigation_f2"
   ]
  },
  {
   "cell_type": "code",
   "execution_count": 0,
   "metadata": {
    "application/vnd.databricks.v1+cell": {
     "cellMetadata": {
      "byteLimit": 2048000,
      "rowLimit": 10000
     },
     "inputWidgets": {},
     "nuid": "20616e2c-e991-4174-8c05-15135a7bf8c8",
     "showTitle": false,
     "tableResultSettingsMap": {},
     "title": ""
    }
   },
   "outputs": [],
   "source": [
    "report = pd.DataFrame([\n",
    "    {\"factory\": \"F1\", \"regret\": df[df[\"scenario\"]==\"F1_Down\"][\"regret\"].values[0], \"tts\": tts_results[\"F1\"], \"unmet_post_mitigation\": mitigation_f1[\"unmet\"]},\n",
    "    {\"factory\": \"F2\", \"regret\": df[df[\"scenario\"]==\"F2_Down\"][\"regret\"].values[0], \"tts\": tts_results[\"F2\"], \"unmet_post_mitigation\": mitigation_f2[\"unmet\"]},\n",
    "])\n",
    "report\n"
   ]
  }
 ],
 "metadata": {
  "application/vnd.databricks.v1+notebook": {
   "computePreferences": null,
   "dashboards": [],
   "environmentMetadata": {
    "base_environment": "",
    "environment_version": "2"
   },
   "inputWidgetPreferences": null,
   "language": "python",
   "notebookMetadata": {
    "mostRecentlyExecutedCommandWithImplicitDF": {
     "commandId": 2818997009279786,
     "dataframes": [
      "_sqldf"
     ]
    },
    "pythonIndentUnit": 2
   },
   "notebookName": "Notebook 2: Post-Optimization",
   "widgets": {}
  },
  "language_info": {
   "name": "python"
  }
 },
 "nbformat": 4,
 "nbformat_minor": 0
}
