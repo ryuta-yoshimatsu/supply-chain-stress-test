{
 "cells": [
  {
   "cell_type": "code",
   "execution_count": 0,
   "metadata": {
    "application/vnd.databricks.v1+cell": {
     "cellMetadata": {},
     "inputWidgets": {},
     "nuid": "8b6150ec-23a3-4941-b024-2ab5721be9e7",
     "showTitle": false,
     "tableResultSettingsMap": {},
     "title": ""
    }
   },
   "outputs": [],
   "source": [
    "# Install Pyomo \n",
    "%pip install pyomo"
   ]
  },
  {
   "cell_type": "code",
   "execution_count": 0,
   "metadata": {
    "application/vnd.databricks.v1+cell": {
     "cellMetadata": {},
     "inputWidgets": {},
     "nuid": "f5d05470-f894-4755-86ff-39a75854c522",
     "showTitle": false,
     "tableResultSettingsMap": {},
     "title": ""
    }
   },
   "outputs": [],
   "source": [
    "dbutils.library.restartPython()"
   ]
  },
  {
   "cell_type": "code",
   "execution_count": 0,
   "metadata": {
    "application/vnd.databricks.v1+cell": {
     "cellMetadata": {},
     "inputWidgets": {},
     "nuid": "8635e5a6-d3f3-4a7a-aa4d-64df9a317ffe",
     "showTitle": false,
     "tableResultSettingsMap": {},
     "title": ""
    }
   },
   "outputs": [],
   "source": [
    "import pyomo.environ as pyo\n",
    "import pandas as pd\n",
    "import numpy as np\n",
    "import mlflow\n",
    "import os"
   ]
  },
  {
   "cell_type": "code",
   "execution_count": 0,
   "metadata": {
    "application/vnd.databricks.v1+cell": {
     "cellMetadata": {},
     "inputWidgets": {},
     "nuid": "71ac4906-6d83-499e-b86b-5c16d8e9d4a8",
     "showTitle": false,
     "tableResultSettingsMap": {},
     "title": ""
    }
   },
   "outputs": [],
   "source": [
    "%sh cbc"
   ]
  },
  {
   "cell_type": "code",
   "execution_count": 0,
   "metadata": {
    "application/vnd.databricks.v1+cell": {
     "cellMetadata": {},
     "inputWidgets": {},
     "nuid": "9f3498d1-371f-4f9b-aff7-67f737aac0b4",
     "showTitle": true,
     "tableResultSettingsMap": {},
     "title": "Synthetic Network Data (Suppliers → Factories → Customers)"
    }
   },
   "outputs": [],
   "source": [
    "suppliers = ['S1', 'S2']\n",
    "factories = ['F1', 'F2']\n",
    "customers = ['C1', 'C2']\n",
    "\n",
    "# Sample demands\n",
    "demand = {'C1': 40, 'C2': 50}\n",
    "\n",
    "# Factory capacity (can be disrupted)\n",
    "factory_capacity = {'F1': 60, 'F2': 70}\n",
    "extra_capacity = {'F1': 20, 'F2': 30}  # dynamic surge capacity\n",
    "\n",
    "# Cost per unit\n",
    "ship_cost = {\n",
    "    ('S1', 'F1'): 2, ('S1', 'F2'): 3,\n",
    "    ('S2', 'F1'): 4, ('S2', 'F2'): 2,\n",
    "    ('F1', 'C1'): 1, ('F1', 'C2'): 2,\n",
    "    ('F2', 'C1'): 3, ('F2', 'C2'): 1,\n",
    "}\n",
    "\n",
    "# Cost multipliers\n",
    "extra_cost = {'F1': 5, 'F2': 5}\n",
    "unmet_penalty = 100"
   ]
  },
  {
   "cell_type": "code",
   "execution_count": 0,
   "metadata": {
    "application/vnd.databricks.v1+cell": {
     "cellMetadata": {},
     "inputWidgets": {},
     "nuid": "5670aa32-5c39-495e-85fc-cc9e998553ae",
     "showTitle": true,
     "tableResultSettingsMap": {},
     "title": "Pyomo Model Builder (Reusable Function)"
    }
   },
   "outputs": [],
   "source": [
    "def build_model(factory_caps, extra_caps):\n",
    "    model = pyo.ConcreteModel()\n",
    "    model.S = pyo.Set(initialize=suppliers)\n",
    "    model.F = pyo.Set(initialize=factories)\n",
    "    model.C = pyo.Set(initialize=customers)\n",
    "    \n",
    "    model.demand = pyo.Param(model.C, initialize=demand)\n",
    "    model.factory_cap = pyo.Param(model.F, initialize=factory_caps, mutable=True)\n",
    "    model.extra_cap = pyo.Param(model.F, initialize=extra_caps, mutable=True)\n",
    "    model.ship_cost = pyo.Param(model.S * model.F | model.F * model.C, initialize=ship_cost)\n",
    "    model.extra_cost = pyo.Param(model.F, initialize=extra_cost)\n",
    "    \n",
    "    # Vars\n",
    "    model.x_sf = pyo.Var(model.S, model.F, domain=pyo.NonNegativeReals)\n",
    "    model.x_fc = pyo.Var(model.F, model.C, domain=pyo.NonNegativeReals)\n",
    "    model.extra_used = pyo.Var(model.F, domain=pyo.NonNegativeReals)\n",
    "    model.unmet = pyo.Var(model.C, domain=pyo.NonNegativeReals)\n",
    "    \n",
    "    # Flow into factories must equal flow out\n",
    "    def flow_balance_rule(m, f):\n",
    "        return sum(m.x_sf[s, f] for s in m.S) == sum(m.x_fc[f, c] for c in m.C)\n",
    "    model.flow_balance = pyo.Constraint(model.F, rule=flow_balance_rule)\n",
    "\n",
    "    # Factory capacity constraint\n",
    "    def cap_rule(m, f):\n",
    "        return sum(m.x_fc[f, c] for c in m.C) <= m.factory_cap[f] + m.extra_used[f]\n",
    "    model.cap = pyo.Constraint(model.F, rule=cap_rule)\n",
    "\n",
    "    # Extra capacity limits\n",
    "    def extra_limit(m, f):\n",
    "        return m.extra_used[f] <= m.extra_cap[f]\n",
    "    model.extra_limit = pyo.Constraint(model.F, rule=extra_limit)\n",
    "\n",
    "    # Demand fulfillment\n",
    "    def demand_rule(m, c):\n",
    "        return sum(m.x_fc[f, c] for f in m.F) + m.unmet[c] == m.demand[c]\n",
    "    model.demand_fill = pyo.Constraint(model.C, rule=demand_rule)\n",
    "    \n",
    "    # Objective: total cost\n",
    "    model.obj = pyo.Objective(\n",
    "        expr = sum(model.ship_cost[s, f] * model.x_sf[s, f] for s in model.S for f in model.F) +\n",
    "               sum(model.ship_cost[f, c] * model.x_fc[f, c] for f in model.F for c in model.C) +\n",
    "               sum(model.extra_cost[f] * model.extra_used[f] for f in model.F) +\n",
    "               sum(unmet_penalty * model.unmet[c] for c in model.C),\n",
    "        sense=pyo.minimize\n",
    "    )\n",
    "\n",
    "    return model\n",
    "    \n",
    "    return model"
   ]
  },
  {
   "cell_type": "code",
   "execution_count": 0,
   "metadata": {
    "application/vnd.databricks.v1+cell": {
     "cellMetadata": {},
     "inputWidgets": {},
     "nuid": "2b848271-f6ad-4687-8aa9-0f8b0dca6f5f",
     "showTitle": false,
     "tableResultSettingsMap": {},
     "title": ""
    }
   },
   "outputs": [],
   "source": [
    "experiment_name = \"/SupplyChainStressTest\""
   ]
  }
 ],
 "metadata": {
  "application/vnd.databricks.v1+notebook": {
   "computePreferences": null,
   "dashboards": [],
   "environmentMetadata": {
    "base_environment": "",
    "environment_version": "2"
   },
   "inputWidgetPreferences": null,
   "language": "python",
   "notebookMetadata": {
    "pythonIndentUnit": 2
   },
   "notebookName": "init",
   "widgets": {}
  },
  "language_info": {
   "name": "python"
  }
 },
 "nbformat": 4,
 "nbformat_minor": 0
}
