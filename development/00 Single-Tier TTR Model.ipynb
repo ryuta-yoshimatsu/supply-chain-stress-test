{
 "cells": [
  {
   "cell_type": "code",
   "execution_count": 0,
   "metadata": {
    "application/vnd.databricks.v1+cell": {
     "cellMetadata": {
      "byteLimit": 2048000,
      "rowLimit": 10000
     },
     "inputWidgets": {},
     "nuid": "8b6150ec-23a3-4941-b024-2ab5721be9e7",
     "showTitle": false,
     "tableResultSettingsMap": {},
     "title": ""
    }
   },
   "outputs": [],
   "source": [
    "# Install Pyomo \n",
    "%pip install pyomo --quiet"
   ]
  },
  {
   "cell_type": "code",
   "execution_count": 0,
   "metadata": {
    "application/vnd.databricks.v1+cell": {
     "cellMetadata": {
      "byteLimit": 2048000,
      "rowLimit": 10000
     },
     "inputWidgets": {},
     "nuid": "f5d05470-f894-4755-86ff-39a75854c522",
     "showTitle": false,
     "tableResultSettingsMap": {},
     "title": ""
    }
   },
   "outputs": [],
   "source": [
    "dbutils.library.restartPython()"
   ]
  },
  {
   "cell_type": "code",
   "execution_count": 0,
   "metadata": {
    "application/vnd.databricks.v1+cell": {
     "cellMetadata": {
      "byteLimit": 2048000,
      "rowLimit": 10000
     },
     "inputWidgets": {},
     "nuid": "8635e5a6-d3f3-4a7a-aa4d-64df9a317ffe",
     "showTitle": false,
     "tableResultSettingsMap": {},
     "title": ""
    }
   },
   "outputs": [],
   "source": [
    "import pyomo.environ as pyo\n",
    "import pandas as pd\n",
    "import numpy as np\n",
    "import mlflow\n",
    "import os"
   ]
  },
  {
   "cell_type": "code",
   "execution_count": 0,
   "metadata": {
    "application/vnd.databricks.v1+cell": {
     "cellMetadata": {
      "byteLimit": 2048000,
      "rowLimit": 10000
     },
     "inputWidgets": {},
     "nuid": "71ac4906-6d83-499e-b86b-5c16d8e9d4a8",
     "showTitle": false,
     "tableResultSettingsMap": {},
     "title": ""
    }
   },
   "outputs": [],
   "source": [
    "%sh bash install_cbc.sh"
   ]
  },
  {
   "cell_type": "code",
   "execution_count": 0,
   "metadata": {
    "application/vnd.databricks.v1+cell": {
     "cellMetadata": {
      "byteLimit": 2048000,
      "rowLimit": 10000
     },
     "inputWidgets": {},
     "nuid": "9f3498d1-371f-4f9b-aff7-67f737aac0b4",
     "showTitle": true,
     "tableResultSettingsMap": {},
     "title": "Synthetic Network Data (Suppliers →Products)"
    }
   },
   "outputs": [],
   "source": [
    "A = ['A1', 'A2', 'A3', 'A4', 'A5']\n",
    "V = ['V1', 'V2', 'V3']\n",
    "E = [('A1', 'V1'), ('A1', 'V2'), \n",
    "     ('A2', 'V1'), ('A2', 'V2'), \n",
    "     ('A3', 'V1'), ('A3', 'V2'), ('A3', 'V3'), \n",
    "     ('A4', 'V2'), ('A4', 'V3'), \n",
    "     ('A5', 'V3')]\n",
    "\n",
    "# Properties of V\n",
    "f = {'V1': 0.1, 'V2': 0.15, 'V3': 0.2}  # profit margin\n",
    "d = {'V1': 200, 'V2': 150, 'V3': 50}    # demand \n",
    "s = {'V1': 20, 'V2': 15, 'V3': 5}       # stock\n",
    "\n",
    "# Properties of A\n",
    "c = {'A1': 150, 'A2': 100, 'A3': 200, 'A4': 150, 'A5': 50}  # capacity"
   ]
  },
  {
   "cell_type": "code",
   "execution_count": 0,
   "metadata": {
    "application/vnd.databricks.v1+cell": {
     "cellMetadata": {
      "byteLimit": 2048000,
      "rowLimit": 10000
     },
     "inputWidgets": {},
     "nuid": "5670aa32-5c39-495e-85fc-cc9e998553ae",
     "showTitle": true,
     "tableResultSettingsMap": {},
     "title": "Pyomo Model Builder (Reusable Function)"
    }
   },
   "outputs": [],
   "source": [
    "def build_model(ttr=10):\n",
    "    \n",
    "    model = pyo.ConcreteModel()  # Create a concrete optimization model\n",
    "    model.A = pyo.Set(initialize=A)  \n",
    "    model.V = pyo.Set(initialize=V)  \n",
    "    model.E = pyo.Set(within=model.A * model.V, initialize=E)\n",
    "    \n",
    "    model.f = pyo.Param(model.V, initialize=f, mutable=True)\n",
    "    model.d = pyo.Param(model.V, initialize=d, mutable=True)\n",
    "    model.s = pyo.Param(model.V, initialize=s, mutable=True)\n",
    "    model.c = pyo.Param(model.A, initialize=c, mutable=True)\n",
    "    \n",
    "    model.y_av = pyo.Var(model.E, domain=pyo.NonNegativeIntegers)\n",
    "    model.l = pyo.Var(model.V, domain=pyo.NonNegativeIntegers)\n",
    "\n",
    "    def unit_lost(m, v):\n",
    "        return sum(m.y_av[a, v] for (a,v) in m.E) + m.l[v] >= m.d[v] * ttr - m.s[v]\n",
    "    model.unit_lost = pyo.Constraint(model.V, rule=unit_lost)\n",
    "\n",
    "    def total_capacity(m, a):\n",
    "        return sum(m.y_av[a, v] for (a,v) in m.E) <= m.c[a] * ttr\n",
    "    model.total_capacity = pyo.Constraint(model.A, rule=total_capacity)\n",
    "    \n",
    "    # Objective: total cost\n",
    "    model.obj = pyo.Objective(\n",
    "        expr = sum(model.f[v] * model.l[v] for v in model.V),\n",
    "        sense=pyo.minimize\n",
    "    )\n",
    "\n",
    "    return model  # Return the constructed model"
   ]
  },
  {
   "cell_type": "code",
   "execution_count": 0,
   "metadata": {
    "application/vnd.databricks.v1+cell": {
     "cellMetadata": {
      "byteLimit": 2048000,
      "rowLimit": 10000
     },
     "inputWidgets": {},
     "nuid": "2b848271-f6ad-4687-8aa9-0f8b0dca6f5f",
     "showTitle": false,
     "tableResultSettingsMap": {},
     "title": ""
    }
   },
   "outputs": [],
   "source": [
    "model = build_model()\n",
    "solver = pyo.SolverFactory(\"cbc\")\n",
    "result = solver.solve(model)"
   ]
  },
  {
   "cell_type": "code",
   "execution_count": 0,
   "metadata": {
    "application/vnd.databricks.v1+cell": {
     "cellMetadata": {
      "byteLimit": 2048000,
      "rowLimit": 10000
     },
     "inputWidgets": {},
     "nuid": "21e67987-7c86-421a-8bf3-fb27f9ea4db8",
     "showTitle": false,
     "tableResultSettingsMap": {},
     "title": ""
    }
   },
   "outputs": [],
   "source": [
    "total_loss = pyo.value(model.obj)\n",
    "total_loss"
   ]
  }
 ],
 "metadata": {
  "application/vnd.databricks.v1+notebook": {
   "computePreferences": null,
   "dashboards": [],
   "environmentMetadata": {
    "base_environment": "",
    "environment_version": "2"
   },
   "inputWidgetPreferences": null,
   "language": "python",
   "notebookMetadata": {
    "mostRecentlyExecutedCommandWithImplicitDF": {
     "commandId": 4178668517339694,
     "dataframes": [
      "_sqldf"
     ]
    },
    "pythonIndentUnit": 2
   },
   "notebookName": "00 Single-Tier TTR Model",
   "widgets": {}
  },
  "language_info": {
   "name": "python"
  }
 },
 "nbformat": 4,
 "nbformat_minor": 0
}
