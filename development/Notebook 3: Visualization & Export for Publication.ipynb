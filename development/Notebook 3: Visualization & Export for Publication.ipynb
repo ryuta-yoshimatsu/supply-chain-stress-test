{
 "cells": [
  {
   "cell_type": "code",
   "execution_count": 0,
   "metadata": {
    "application/vnd.databricks.v1+cell": {
     "cellMetadata": {
      "byteLimit": 2048000,
      "rowLimit": 10000
     },
     "inputWidgets": {},
     "nuid": "2dd9615f-2231-4184-9e24-e5928acb3695",
     "showTitle": false,
     "tableResultSettingsMap": {},
     "title": ""
    }
   },
   "outputs": [],
   "source": [
    "%run \"./init\""
   ]
  },
  {
   "cell_type": "code",
   "execution_count": 0,
   "metadata": {
    "application/vnd.databricks.v1+cell": {
     "cellMetadata": {
      "byteLimit": 2048000,
      "rowLimit": 10000
     },
     "inputWidgets": {},
     "nuid": "2cca40ad-e943-4777-bd26-25b8cc32a224",
     "showTitle": false,
     "tableResultSettingsMap": {},
     "title": ""
    }
   },
   "outputs": [],
   "source": [
    "import mlflow\n",
    "import pandas as pd\n",
    "import matplotlib.pyplot as plt\n",
    "import seaborn as sns\n",
    "\n",
    "client = mlflow.tracking.MlflowClient()\n",
    "experiment = client.get_experiment_by_name(experiment_name)\n",
    "\n",
    "if experiment is None:\n",
    "    raise ValueError(\"Experiment does not exist. Please run notebook 1 to create the experiment.\")\n",
    "\n",
    "runs = client.search_runs(experiment.experiment_id)\n",
    "\n",
    "df = pd.DataFrame([{\n",
    "    \"scenario\": r.data.params.get(\"scenario\"),\n",
    "    \"factory_down\": r.data.params.get(\"factory_down\"),\n",
    "    \"cost\": r.data.metrics.get(\"total_cost\"),\n",
    "    \"unmet\": r.data.metrics.get(\"total_unmet_demand\")\n",
    "} for r in runs])\n",
    "baseline_cost = df[df[\"scenario\"] == \"Baseline\"][\"cost\"].values[0]\n",
    "df[\"regret\"] = df[\"cost\"] - baseline_cost\n",
    "\n",
    "df.sort_values(\"regret\", ascending=False)\n",
    "df"
   ]
  },
  {
   "cell_type": "code",
   "execution_count": 0,
   "metadata": {
    "application/vnd.databricks.v1+cell": {
     "cellMetadata": {
      "byteLimit": 2048000,
      "rowLimit": 10000
     },
     "inputWidgets": {},
     "nuid": "d84d5635-147f-4a53-9564-9908a00adfe7",
     "showTitle": true,
     "tableResultSettingsMap": {},
     "title": "Regret bar chart"
    }
   },
   "outputs": [],
   "source": [
    "plt.figure(figsize=(10,6))\n",
    "sns.barplot(x=\"scenario\", y=\"regret\", data=df)\n",
    "plt.title(\"Regret per Disruption Scenario\")\n",
    "plt.ylabel(\"Cost Increase vs. Baseline\")\n",
    "plt.xlabel(\"Scenario\")\n",
    "plt.xticks(rotation=45)\n",
    "plt.grid(True)\n",
    "plt.tight_layout()\n",
    "plt.savefig(\"regret_barplot.png\", dpi=300)\n",
    "plt.show()"
   ]
  },
  {
   "cell_type": "code",
   "execution_count": 0,
   "metadata": {
    "application/vnd.databricks.v1+cell": {
     "cellMetadata": {
      "byteLimit": 2048000,
      "rowLimit": 10000
     },
     "inputWidgets": {},
     "nuid": "d76bb923-60e8-4199-bbab-3aee5bf5db34",
     "showTitle": true,
     "tableResultSettingsMap": {},
     "title": "Heatmap of Unmet Demand"
    }
   },
   "outputs": [],
   "source": [
    "pivot = df.pivot(index=\"factory_down\", columns=\"scenario\", values=\"unmet\").fillna(0)\n",
    "plt.figure(figsize=(8, 5))\n",
    "sns.heatmap(pivot, annot=True, cmap=\"Reds\", cbar_kws={'label': 'Unmet Demand'})\n",
    "plt.title(\"Unmet Demand by Factory Disruption\")\n",
    "plt.tight_layout()\n",
    "plt.savefig(\"unmet_heatmap.png\", dpi=300)\n",
    "plt.show()"
   ]
  },
  {
   "cell_type": "code",
   "execution_count": 0,
   "metadata": {
    "application/vnd.databricks.v1+cell": {
     "cellMetadata": {
      "byteLimit": 2048000,
      "rowLimit": 10000
     },
     "inputWidgets": {},
     "nuid": "2acf4c5b-2eb0-41ce-a03a-6b5deacf97f8",
     "showTitle": true,
     "tableResultSettingsMap": {},
     "title": "Publication-Ready Table Generator (Markdown Style)"
    }
   },
   "outputs": [],
   "source": [
    "def to_markdown_table(df):\n",
    "    return df.to_markdown(index=False, tablefmt=\"github\")\n",
    "\n",
    "print(to_markdown_table(df[[\"scenario\", \"factory_down\", \"cost\", \"regret\", \"unmet\"]]))"
   ]
  },
  {
   "cell_type": "code",
   "execution_count": 0,
   "metadata": {
    "application/vnd.databricks.v1+cell": {
     "cellMetadata": {
      "byteLimit": 2048000,
      "rowLimit": 10000
     },
     "inputWidgets": {},
     "nuid": "9aedc277-9faf-40bd-af23-ba9d6a3f0568",
     "showTitle": false,
     "tableResultSettingsMap": {},
     "title": ""
    }
   },
   "outputs": [],
   "source": [
    "df.to_csv(\"disruption_scenario_results.csv\", index=False)\n",
    "pivot.to_csv(\"unmet_heatmap_data.csv\")"
   ]
  }
 ],
 "metadata": {
  "application/vnd.databricks.v1+notebook": {
   "computePreferences": null,
   "dashboards": [],
   "environmentMetadata": {
    "base_environment": "",
    "environment_version": "2"
   },
   "inputWidgetPreferences": null,
   "language": "python",
   "notebookMetadata": {
    "mostRecentlyExecutedCommandWithImplicitDF": {
     "commandId": 457628674482736,
     "dataframes": [
      "_sqldf"
     ]
    },
    "pythonIndentUnit": 2
   },
   "notebookName": "Notebook 3: Visualization & Export for Publication",
   "widgets": {}
  },
  "language_info": {
   "name": "python"
  }
 },
 "nbformat": 4,
 "nbformat_minor": 0
}
