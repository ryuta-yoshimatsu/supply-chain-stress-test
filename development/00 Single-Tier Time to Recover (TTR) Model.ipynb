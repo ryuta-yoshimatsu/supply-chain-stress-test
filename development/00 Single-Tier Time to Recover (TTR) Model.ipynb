{
 "cells": [
  {
   "cell_type": "code",
   "execution_count": 0,
   "metadata": {
    "application/vnd.databricks.v1+cell": {
     "cellMetadata": {
      "byteLimit": 2048000,
      "rowLimit": 10000
     },
     "inputWidgets": {},
     "nuid": "8b6150ec-23a3-4941-b024-2ab5721be9e7",
     "showTitle": false,
     "tableResultSettingsMap": {},
     "title": ""
    }
   },
   "outputs": [],
   "source": [
    "# Install Pyomo \n",
    "%pip install pyomo --quiet\n",
    "dbutils.library.restartPython()"
   ]
  },
  {
   "cell_type": "code",
   "execution_count": 0,
   "metadata": {
    "application/vnd.databricks.v1+cell": {
     "cellMetadata": {
      "byteLimit": 2048000,
      "rowLimit": 10000
     },
     "inputWidgets": {},
     "nuid": "8635e5a6-d3f3-4a7a-aa4d-64df9a317ffe",
     "showTitle": false,
     "tableResultSettingsMap": {},
     "title": ""
    }
   },
   "outputs": [],
   "source": [
    "import os\n",
    "import mlflow\n",
    "import numpy as np\n",
    "import pandas as pd\n",
    "import pyomo.environ as pyo"
   ]
  },
  {
   "cell_type": "code",
   "execution_count": 0,
   "metadata": {
    "application/vnd.databricks.v1+cell": {
     "cellMetadata": {
      "byteLimit": 2048000,
      "rowLimit": 10000
     },
     "inputWidgets": {},
     "nuid": "71ac4906-6d83-499e-b86b-5c16d8e9d4a8",
     "showTitle": false,
     "tableResultSettingsMap": {},
     "title": ""
    }
   },
   "outputs": [],
   "source": [
    "%sh bash install_cbc.sh"
   ]
  },
  {
   "cell_type": "code",
   "execution_count": 0,
   "metadata": {
    "application/vnd.databricks.v1+cell": {
     "cellMetadata": {
      "byteLimit": 2048000,
      "rowLimit": 10000
     },
     "inputWidgets": {},
     "nuid": "611ef69e-f0b2-40a0-ab45-c11132422d08",
     "showTitle": false,
     "tableResultSettingsMap": {},
     "title": ""
    }
   },
   "outputs": [],
   "source": [
    "# ---------------------------------------------------------------\n",
    "# Builds a synthetic 2-tier network dataset for optimisation.\n",
    "# ---------------------------------------------------------------\n",
    "\n",
    "import random, string, math\n",
    "import matplotlib.pyplot as plt\n",
    "from itertools import product\n",
    "from collections import defaultdict\n",
    "\n",
    "# ------------- 0 — reproduce the exact network ------------------\n",
    "N1, N2 = 10, 20\n",
    "random.seed(777)                 # <- keep topology reproducible\n",
    "\n",
    "tier1 = [f\"T1_{i}\" for i in range(1, N1 + 1)]\n",
    "tier2 = [f\"T2_{i}\" for i in range(1, N2 + 1)]\n",
    "\n",
    "edges = []                         # (src, tgt)\n",
    "\n",
    "# ---- Tier-2 → Tier-1  (1–3 edges out of each Tier-2) ----------\n",
    "t2_out = {t2: set() for t2 in tier2}\n",
    "shuffled_t2 = tier2.copy()\n",
    "random.shuffle(shuffled_t2)\n",
    "for t1_node, t2_node in zip(tier1, shuffled_t2):\n",
    "    edges.append((t2_node, t1_node))\n",
    "    t2_out[t2_node].add(t1_node)\n",
    "\n",
    "for t2_node in tier2:\n",
    "    desired = random.randint(1, 3)\n",
    "    while len(t2_out[t2_node]) < desired:\n",
    "        candidate = random.choice(tier1)\n",
    "        if candidate not in t2_out[t2_node]:\n",
    "            edges.append((t2_node, candidate))\n",
    "            t2_out[t2_node].add(candidate)\n",
    "\n",
    "# ------------- 1 — scalar & tabular parameters ------------------\n",
    "rng_int   = lambda lo, hi: random.randint(lo, hi)\n",
    "rng_float = lambda lo, hi, r=2: round(random.uniform(lo, hi), r)\n",
    "\n",
    "# Profit margin for finished products\n",
    "f = {j: rng_float(0.05, 0.30) for j in tier1}\n",
    "\n",
    "# On-hand inventory for product nodes\n",
    "s = {j: rng_int(400, 1800) for j in tier1}\n",
    "\n",
    "# Demand per TTR for finished products\n",
    "d = {j: rng_int(400, 1800) for j in tier1}\n",
    "\n",
    "# Production capacity per TTR for the supplier nodes\n",
    "c = {a: rng_int(500, 2500) for a in tier2}\n",
    "\n",
    "# Time-to-recover for this disruption scenario\n",
    "t = 1\n",
    "\n",
    "# A small share of Tier-2 + Tier-3 nodes disrupted\n",
    "disrupted_count = max(1, int(0.10 * (len(tier2))))\n",
    "disrupted       = random.sample(tier2, disrupted_count)\n",
    "\n",
    "# ------------- 2 — quick smoke test when run directly ----------\n",
    "if __name__ == \"__main__\":\n",
    "    print(\"Tier sizes  :\", len(tier1), len(tier2))\n",
    "    print(\"Edges       :\", len(edges))\n",
    "    print(\"Disrupted   :\", disrupted)\n",
    "    print(\"------------------------------------------------------\")\n",
    "    print(\"f:\", {j: f[j] for j in tier1})\n",
    "    print(\"d:\", {j: d[j] for j in tier1})\n",
    "    print(\"s:\", {j: s[j] for j in tier1})\n",
    "    print(\"c:\", {j: c[j] for j in tier2})\n",
    "    print(f\"edges:\", edges)"
   ]
  },
  {
   "cell_type": "code",
   "execution_count": 0,
   "metadata": {
    "application/vnd.databricks.v1+cell": {
     "cellMetadata": {
      "byteLimit": 2048000,
      "rowLimit": 10000
     },
     "inputWidgets": {},
     "nuid": "9f3498d1-371f-4f9b-aff7-67f737aac0b4",
     "showTitle": true,
     "tableResultSettingsMap": {},
     "title": "Synthetic Network Data (Suppliers →Products)"
    }
   },
   "outputs": [],
   "source": [
    "# -------------------------------------------------------------\n",
    "# COLOUR MAP  (one colour per distinct profit margin)\n",
    "# -------------------------------------------------------------\n",
    "\n",
    "import matplotlib.pyplot as plt\n",
    "import matplotlib.patches as mpatches\n",
    "\n",
    "profit_codes = sorted(set(f.values()))              # [0.10, 0.15, 0.20]\n",
    "cmap          = plt.get_cmap(\"YlGnBu\", len(profit_codes))\n",
    "code_colour   = {p: cmap(i) for i, p in enumerate(profit_codes)}\n",
    "\n",
    "default_colour = \"#9e9e9e\"      # fallback for A-nodes\n",
    "\n",
    "def colours_for(nodes):\n",
    "    \"\"\"Return list of node colours in the given order.\"\"\"\n",
    "    return [code_colour.get(f.get(n), default_colour) for n in nodes]\n",
    "\n",
    "# -------------------------------------------------------------\n",
    "# POSITIONS  (two centred tiers)\n",
    "# -------------------------------------------------------------\n",
    "pos = {}\n",
    "\n",
    "gap_t1 = 2.5\n",
    "gap_t2 = 2.5\n",
    "\n",
    "tier_specs = [                 # (nodes, gap, y-coordinate)\n",
    "    (tier1, gap_t1, 1),             # Tier-1: products\n",
    "    (tier2, gap_t2, 0),             # Tier-2: vendors\n",
    "]\n",
    "\n",
    "max_width = max((len(nodes) - 1) * gap for nodes, gap, _ in tier_specs)\n",
    "\n",
    "for nodes, gap, y in tier_specs:\n",
    "    width    = (len(nodes) - 1) * gap\n",
    "    x_offset = (max_width - width) / 2          # centre the tier\n",
    "    for idx, node in enumerate(nodes):\n",
    "        pos[node] = (x_offset + idx * gap, y)\n",
    "\n",
    "# -------------------------------------------------------------\n",
    "# VISUALISATION\n",
    "# -------------------------------------------------------------\n",
    "fig, ax = plt.subplots(figsize=(13, 5))\n",
    "\n",
    "# Tier-1  (Product-nodes, grey circles)\n",
    "ax.scatter([pos[n][0] for n in tier1], [pos[n][1] for n in tier1],\n",
    "           s=600, marker='o', c=colours_for(tier1),\n",
    "           edgecolor='k', linewidth=0.6, label=\"Tier 1 (products)\")\n",
    "\n",
    "# Tier-2  (Supplier-nodes, coloured squares)\n",
    "ax.scatter([pos[n][0] for n in tier2], [pos[n][1] for n in tier2],\n",
    "           s=600, marker='s', c=colours_for(tier2),\n",
    "           edgecolor='k', linewidth=0.6, label=\"Tier 2 (suppliers)\")\n",
    "\n",
    "# Node labels\n",
    "for n, (x, y) in pos.items():\n",
    "    ax.text(x, y, n, ha='center', va='center', fontsize=8)\n",
    "\n",
    "# Directed edges\n",
    "for src, tgt in edges:\n",
    "    sx, sy = pos[src]\n",
    "    tx, ty = pos[tgt]\n",
    "    ax.annotate(\"\",\n",
    "                xy=(tx, ty), xytext=(sx, sy),\n",
    "                arrowprops=dict(arrowstyle=\"-|>\", lw=0.8))\n",
    "\n",
    "# Axes & title\n",
    "ax.set_xlim(-2.5, max_width + 2.5)\n",
    "ax.set_ylim(-0.5, 1.5)\n",
    "ax.axis(\"off\")\n",
    "plt.title(\"Two-Tier Directed Network\\n(coloured by profit margin)\")\n",
    "\n",
    "# Custom legend: one patch per profit margin value\n",
    "patches = [mpatches.Patch(color=code_colour[p], label=f\"π = {p:.2f}\")\n",
    "           for p in profit_codes]\n",
    "first_legend = ax.legend(handles=patches, title=\"profit margin\",\n",
    "                         fontsize=8, title_fontsize=9,\n",
    "                         loc=\"upper left\", bbox_to_anchor=(1.02, 1))\n",
    "ax.legend(loc=\"upper left\", bbox_to_anchor=(1.02, 0.6))\n",
    "ax.add_artist(first_legend)     # keep both legends\n",
    "\n",
    "plt.tight_layout()\n",
    "plt.show()"
   ]
  },
  {
   "cell_type": "code",
   "execution_count": 0,
   "metadata": {
    "application/vnd.databricks.v1+cell": {
     "cellMetadata": {
      "byteLimit": 2048000,
      "rowLimit": 10000
     },
     "inputWidgets": {},
     "nuid": "5670aa32-5c39-495e-85fc-cc9e998553ae",
     "showTitle": true,
     "tableResultSettingsMap": {},
     "title": "Pyomo Model Builder (Reusable Function)"
    }
   },
   "outputs": [],
   "source": [
    "# optimisation_model.py\n",
    "from pyomo.environ import *\n",
    "\n",
    "# ------------------------------------------------------------------\n",
    "# 1.  Prepare your data\n",
    "# ------------------------------------------------------------------\n",
    "data = {\n",
    "    # elementary sets ------------------------------------------------\n",
    "    'V'      : tier1,               # product nodes\n",
    "    'A'      : tier2,               # all BUT leaf nodes\n",
    "    'E'      : edges,               # all edges\n",
    "    'S'      : disrupted,           # disrupted nodes in scenario n\n",
    "    # parameters -----------------------------------------------------\n",
    "    'f'  : f,    # profit margin of 1 unit of j\n",
    "    's'  : s,    # finished-goods inventory of j\n",
    "    't'  : t,    # TTR for disruption scenario n   (a scalar)\n",
    "    'd'  : d,    # demand for j per TTR\n",
    "    'c'  : c,    # plant capacity per TTR\n",
    "}\n",
    "\n",
    "\n",
    "# ------------------------------------------------------------------\n",
    "# 2.  Build the ConcreteModel\n",
    "# ------------------------------------------------------------------\n",
    "m = ConcreteModel()\n",
    "\n",
    "# ---- 2.1  sets ----------------------------------------------------\n",
    "m.V   = Set(initialize=data['V'])\n",
    "m.A   = Set(initialize=data['A'])\n",
    "m.S   = Set(initialize=data['S'])\n",
    "m.E   = Set(initialize=data['E'])\n",
    "\n",
    "# handy union of *all* nodes that may carry production volume\n",
    "m.NODES = pyo.Set(initialize=list(set(data['V']) | set(data['A'])))\n",
    "\n",
    "# ---- 2.2  parameters ---------------------------------------------\n",
    "m.f = Param(m.V, initialize=data['f'], within=NonNegativeReals)          # impact (profit margin)\n",
    "m.s = Param(m.V, initialize=data['s'], within=NonNegativeIntegers)\n",
    "m.t = Param(initialize=data['t'], within=PositiveReals)\n",
    "m.d = Param(m.V, initialize=data['d'], within=NonNegativeIntegers)\n",
    "m.c = Param(m.A, initialize=data['c'], within=NonNegativeIntegers)\n",
    "\n",
    "# ---- 2.3  decision variables -------------------------------------\n",
    "m.l = Var(m.V, domain=NonNegativeIntegers)          # lost volume of product j\n",
    "m.y = Var(m.E, domain=NonNegativeIntegers)\n",
    "\n",
    "\n",
    "# ------------------------------------------------------------------\n",
    "# 3.  objective\n",
    "# ------------------------------------------------------------------\n",
    "def obj_rule(mdl):\n",
    "    return sum(mdl.f[j] * mdl.l[j] for j in mdl.V)\n",
    "m.OBJ = Objective(rule=obj_rule, sense=minimize)\n",
    "\n",
    "\n",
    "# ------------------------------------------------------------------\n",
    "# 4.  constraints\n",
    "# ------------------------------------------------------------------\n",
    "# Σ_{i:(i,j)∈F⁽ⁿ⁾} y_ij + l_j ≥ d_j · t⁽ⁿ⁾ - s_j,            ∀ j∈𝒱\n",
    "def demand_rule(mdl, j):\n",
    "    return sum(mdl.y[i,j] for (i,j) in mdl.E) + mdl.l[j] >= mdl.d[j] * mdl.t - mdl.s[j]\n",
    "m.Demand = Constraint(m.V, rule=demand_rule)\n",
    "\n",
    "# Σ_{k∈𝒜_α} u_k ≤ c_α · t⁽ⁿ⁾,                ∀ j∈NODES\n",
    "def capacity_rule(mdl, i):\n",
    "    return sum(mdl.y[i, j] for (i,j) in m.E) <= m.c[i] * mdl.t\n",
    "m.Capacity = Constraint(m.A, rule=capacity_rule)\n",
    "\n",
    "\n",
    "# ------------------------------------------------------------------\n",
    "# 5.  solve\n",
    "# ------------------------------------------------------------------\n",
    "if __name__ == \"__main__\":\n",
    "    # choose any LP/MIP solver that Pyomo can see (CBC, Gurobi, CPLEX, HiGHS, …)\n",
    "    solver = SolverFactory(\"cbc\")      # just an example\n",
    "    result = solver.solve(m, tee=True)\n",
    "    m.display()                        # quick sanity-check of results\n"
   ]
  }
 ],
 "metadata": {
  "application/vnd.databricks.v1+notebook": {
   "computePreferences": null,
   "dashboards": [],
   "environmentMetadata": {
    "base_environment": "",
    "environment_version": "2"
   },
   "inputWidgetPreferences": null,
   "language": "python",
   "notebookMetadata": {
    "mostRecentlyExecutedCommandWithImplicitDF": {
     "commandId": 4178668517339694,
     "dataframes": [
      "_sqldf"
     ]
    },
    "pythonIndentUnit": 2
   },
   "notebookName": "00 Single-Tier Time to Recover (TTR) Model",
   "widgets": {}
  },
  "language_info": {
   "name": "python"
  }
 },
 "nbformat": 4,
 "nbformat_minor": 0
}
