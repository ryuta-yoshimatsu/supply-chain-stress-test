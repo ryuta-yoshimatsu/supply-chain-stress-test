{
 "cells": [
  {
   "cell_type": "code",
   "execution_count": 0,
   "metadata": {
    "application/vnd.databricks.v1+cell": {
     "cellMetadata": {
      "byteLimit": 2048000,
      "rowLimit": 10000
     },
     "inputWidgets": {},
     "nuid": "8b6150ec-23a3-4941-b024-2ab5721be9e7",
     "showTitle": false,
     "tableResultSettingsMap": {},
     "title": ""
    }
   },
   "outputs": [],
   "source": [
    "%pip install pyomo --quiet\n",
    "dbutils.library.restartPython()"
   ]
  },
  {
   "cell_type": "code",
   "execution_count": 0,
   "metadata": {
    "application/vnd.databricks.v1+cell": {
     "cellMetadata": {
      "byteLimit": 2048000,
      "rowLimit": 10000
     },
     "inputWidgets": {},
     "nuid": "8635e5a6-d3f3-4a7a-aa4d-64df9a317ffe",
     "showTitle": false,
     "tableResultSettingsMap": {},
     "title": ""
    }
   },
   "outputs": [],
   "source": [
    "import pyomo.environ as pyo\n",
    "import pandas as pd\n",
    "import numpy as np\n",
    "import mlflow\n",
    "import os"
   ]
  },
  {
   "cell_type": "code",
   "execution_count": 0,
   "metadata": {
    "application/vnd.databricks.v1+cell": {
     "cellMetadata": {
      "byteLimit": 2048000,
      "rowLimit": 10000
     },
     "inputWidgets": {},
     "nuid": "71ac4906-6d83-499e-b86b-5c16d8e9d4a8",
     "showTitle": false,
     "tableResultSettingsMap": {},
     "title": ""
    }
   },
   "outputs": [],
   "source": [
    "%sh bash install_cbc.sh"
   ]
  },
  {
   "cell_type": "markdown",
   "metadata": {
    "application/vnd.databricks.v1+cell": {
     "cellMetadata": {
      "byteLimit": 2048000,
      "rowLimit": 10000
     },
     "inputWidgets": {},
     "nuid": "be061009-a4ad-47f8-8f42-1d184d12c122",
     "showTitle": false,
     "tableResultSettingsMap": {},
     "title": ""
    }
   },
   "source": [
    "The code block below:\n",
    "\n",
    "Builds the three-tier network exactly with “close” Tier 3 → Tier 2 links (each Tier-3 node picks the nearest Tier-2 node, with a random tie-break when it sits between two). Guarantees no isolation – every Tier-1 node receives ≥ 1 edge from Tier-2, and every Tier-2 node receives ≥ 1 edge from Tier-3 (the assertion would fail otherwise). Visualises the tiers cleanly with distinctive shapes (●, ■, ▲) and a layered layout."
   ]
  },
  {
   "cell_type": "code",
   "execution_count": 0,
   "metadata": {
    "application/vnd.databricks.v1+cell": {
     "cellMetadata": {
      "byteLimit": 2048000,
      "rowLimit": 10000
     },
     "inputWidgets": {},
     "nuid": "4eeefd2f-9f6d-4957-8d62-6f0651867e69",
     "showTitle": false,
     "tableResultSettingsMap": {},
     "title": ""
    }
   },
   "outputs": [],
   "source": [
    "import random, math\n",
    "import matplotlib.pyplot as plt\n",
    "from collections import defaultdict\n",
    "\n",
    "# ---------------- CONFIG ----------------\n",
    "N1, N2, N3 = 5, 10, 20               # tier sizes\n",
    "assert N3 == 2 * N2, \"Assuming 2× Tier‑2 nodes in Tier‑3 to keep layout neat\"\n",
    "\n",
    "random.seed(777)                         # set an int for reproducibility\n",
    "\n",
    "tier1 = [f\"T1_{i}\" for i in range(1, N1 + 1)]\n",
    "tier2 = [f\"T2_{i}\" for i in range(1, N2 + 1)]\n",
    "tier3 = [f\"T3_{i}\" for i in range(1, N3 + 1)]\n",
    "\n",
    "edges = []  # (src, tgt)\n",
    "\n",
    "# -------- Tier‑2 → Tier‑1 (1–3 out‑edges each, cover all Tier‑1) --------\n",
    "t2_out = {t2: set() for t2 in tier2}\n",
    "\n",
    "# Step 1: guarantee each Tier‑1 gets at least one edge\n",
    "shuffled_t2 = tier2.copy()\n",
    "random.shuffle(shuffled_t2)\n",
    "for t1_node, t2_node in zip(tier1, shuffled_t2):\n",
    "    edges.append((t2_node, t1_node))\n",
    "    t2_out[t2_node].add(t1_node)\n",
    "\n",
    "# Step 2: top up to 1–3 edges per Tier‑2 node\n",
    "for t2_node in tier2:\n",
    "    desired = random.randint(1, 3)\n",
    "    while len(t2_out[t2_node]) < desired:\n",
    "        candidate = random.choice(tier1)\n",
    "        if candidate not in t2_out[t2_node]:\n",
    "            edges.append((t2_node, candidate))\n",
    "            t2_out[t2_node].add(candidate)\n",
    "\n",
    "# -------- Tier‑3 → Tier‑2 (exactly 1 edge, choose ‘close’ Tier‑2) --------\n",
    "incoming_t2 = {t2: 0 for t2 in tier2}\n",
    "\n",
    "# Even‑indexed Tier‑3 nodes (indices 0,2,4,…) are directly below Tier‑2 nodes 0‑9\n",
    "tier3_even = tier3[::2]\n",
    "for idx, t3_node in enumerate(tier3_even):\n",
    "    tgt = tier2[idx]\n",
    "    edges.append((t3_node, tgt))\n",
    "    incoming_t2[tgt] += 1\n",
    "\n",
    "# Odd‑indexed Tier‑3 nodes choose between their two nearest Tier‑2 nodes\n",
    "tier3_odd = tier3[1::2]\n",
    "for n, t3_node in enumerate(tier3_odd):\n",
    "    low = n\n",
    "    high = min(n + 1, N2 - 1)\n",
    "    tgt = tier2[random.choice([low, high])] if low != high else tier2[low]\n",
    "    edges.append((t3_node, tgt))\n",
    "    incoming_t2[tgt] += 1\n",
    "\n",
    "# -------- VERIFY --------\n",
    "deg = defaultdict(int)\n",
    "for u, v in edges:\n",
    "    deg[u] += 1\n",
    "    deg[v] += 1\n",
    "\n",
    "isolated = [node for node in (*tier1, *tier2, *tier3) if deg[node] == 0]\n",
    "assert not isolated, f\"Isolated nodes detected: {isolated}\""
   ]
  },
  {
   "cell_type": "code",
   "execution_count": 0,
   "metadata": {
    "application/vnd.databricks.v1+cell": {
     "cellMetadata": {
      "byteLimit": 2048000,
      "rowLimit": 10000
     },
     "inputWidgets": {},
     "nuid": "2d758ce3-14bf-4c64-8590-82db7bc881c3",
     "showTitle": false,
     "tableResultSettingsMap": {},
     "title": ""
    }
   },
   "outputs": [],
   "source": [
    "# -------- POSITIONS (layered layout) --------\n",
    "pos = {}\n",
    "for i, n in enumerate(tier1):\n",
    "    pos[n] = (i, 2)\n",
    "for i, n in enumerate(tier2):\n",
    "    pos[n] = (i, 1)\n",
    "for i, n in enumerate(tier3):\n",
    "    pos[n] = (i * 0.5, 0)\n",
    "\n",
    "# -------- VISUALISATION --------\n",
    "fig, ax = plt.subplots(figsize=(15, 6))\n",
    "\n",
    "# Draw nodes: distinct markers, subtle outline for clarity\n",
    "ax.scatter([pos[n][0] for n in tier1], [pos[n][1] for n in tier1],\n",
    "           s=550, marker='o', label=\"Tier 1\", edgecolor='k', linewidth=0.5)\n",
    "\n",
    "ax.scatter([pos[n][0] for n in tier2], [pos[n][1] for n in tier2],\n",
    "           s=550, marker='s', label=\"Tier 2\", edgecolor='k', linewidth=0.5)\n",
    "\n",
    "ax.scatter([pos[n][0] for n in tier3], [pos[n][1] for n in tier3],\n",
    "           s=450, marker='^', label=\"Tier 3\", edgecolor='k', linewidth=0.5)\n",
    "\n",
    "# Label nodes\n",
    "for node, (x, y) in pos.items():\n",
    "    ax.text(x, y, node, ha='center', va='center', fontsize=8)\n",
    "\n",
    "# Draw directed edges\n",
    "for src, tgt in edges:\n",
    "    sx, sy = pos[src]\n",
    "    tx, ty = pos[tgt]\n",
    "    ax.annotate(\"\",\n",
    "                xy=(tx, ty),\n",
    "                xytext=(sx, sy),\n",
    "                arrowprops=dict(arrowstyle=\"-|>\", lw=0.8))\n",
    "\n",
    "ax.set_ylim(-0.7, 2.7)\n",
    "ax.axis(\"off\")\n",
    "plt.title(\"Three‑Tier Directed Network (No Isolation, Proximity‑Aware Links)\")\n",
    "ax.legend(loc=\"upper left\")\n",
    "plt.tight_layout()\n",
    "plt.show()\n",
    "\n",
    "print(\"Network built successfully — every node has ≥ 1 incident edge.\")\n",
    "print(f\"Total edges: {len(edges)} (Tier‑2→1: {sum(len(s) for s in t2_out.values())}, \"\n",
    "      f\"Tier‑3→2: {N3})\")"
   ]
  },
  {
   "cell_type": "code",
   "execution_count": 0,
   "metadata": {
    "application/vnd.databricks.v1+cell": {
     "cellMetadata": {
      "byteLimit": 2048000,
      "rowLimit": 10000
     },
     "inputWidgets": {},
     "nuid": "9f3498d1-371f-4f9b-aff7-67f737aac0b4",
     "showTitle": false,
     "tableResultSettingsMap": {},
     "title": ""
    }
   },
   "outputs": [],
   "source": [
    "# Properties of the product nodes\n",
    "f = {'T1_1': 0.1, 'T1_2': 0.15, 'T1_3': 0.2, 'T1_4': 0.15, 'T1_5': 0.1}    # profit margin\n",
    "d = {'T1_1': 200, 'T1_2': 150, 'T1_3': 50, 'T1_4': 150, 'T1_5': 200}       # demand \n",
    "\n",
    "# All part types needed to produce final products\n",
    "part_types = ['a', 'b', 'c', 'd', 'e', 'f', 'g', 'h', 'i', 'j', 'k', 'l', 'm', 'n', 'o', 'p', 'q', 'r', 's']\n",
    "\n",
    "# Part types produced at each supplier site\n",
    "supplier_part_type = {\n",
    "     'T2_1': 'a', 'T2_2': 'a', 'T2_3': 'a', 'T2_4': 'b', 'T2_5': 'b',\n",
    "     'T2_6': 'b', 'T2_7': 'c', 'T2_8': 'c', 'T2_9': 'd', 'T2_10': 'd',\n",
    "     'T3_1': 'e', 'T3_2': 'f', 'T3_3': 'g', 'T3_4': 'h', 'T3_5': 'h',\n",
    "     'T3_6': 'i', 'T3_7': 'j', 'T3_8': 'k', 'T3_9': 'l', 'T3_10': 'l',\n",
    "     'T3_11': 'm', 'T3_12': 'n', 'T3_13': 'o', 'T3_14': 'p', 'T3_15': 'p',\n",
    "     'T3_16': 'q', 'T3_17': 'q', 'T3_18': 'r', 'T3_19': 's', 'T3_20': 's',\n",
    "     }\n",
    "\n",
    "# Production capacity of each site\n",
    "c = {\n",
    "     'T1_1': 150, 'T1_2': 100, 'T1_3': 200, 'T1_4': 150, 'T1_5': 50,\n",
    "     'T2_1': 150, 'T2_2': 100, 'T2_3': 200, 'T2_4': 150, 'T2_5': 50,\n",
    "     'T2_6': 150, 'T2_7': 100, 'T2_8': 200, 'T2_9': 150, 'T2_10': 50,\n",
    "     'T3_1': 150, 'T3_2': 100, 'T3_3': 200, 'T3_4': 150, 'T3_5': 50,\n",
    "     'T3_6': 150, 'T3_7': 100, 'T3_8': 200, 'T3_9': 150, 'T3_10': 50,\n",
    "     'T3_11': 150, 'T3_12': 100, 'T3_13': 200, 'T3_14': 150, 'T3_15': 50,\n",
    "     'T3_16': 150, 'T3_17': 100, 'T3_18': 200, 'T3_19': 150, 'T3_20': 50,\n",
    "     }\n",
    "\n",
    "# Stock at each site\n",
    "s = {\n",
    "     'T1_1': 20, 'T1_2': 15, 'T1_3': 5, 'T1_4': 15, 'T1_5': 20,\n",
    "     'T2_1': 20, 'T2_2': 15, 'T2_3': 5, 'T2_4': 15, 'T2_5': 20,\n",
    "     'T2_6': 20, 'T2_7': 15, 'T2_8': 5, 'T2_9': 15, 'T2_10': 20,\n",
    "     'T3_1': 20, 'T3_2': 15, 'T3_3': 5, 'T3_4': 15, 'T3_5': 20,\n",
    "     'T3_6': 20, 'T3_7': 15, 'T3_8': 5, 'T3_9': 15, 'T3_10': 20,\n",
    "     'T3_11': 20, 'T3_12': 15, 'T3_13': 5, 'T3_14': 15, 'T3_15': 20,\n",
    "     'T3_16': 20, 'T3_17': 15, 'T3_18': 5, 'T3_19': 15, 'T3_20': 20,\n",
    "     }\n",
    "\n",
    "# Time to recover\n",
    "t = 10\n",
    "\n",
    "disrupted = []"
   ]
  },
  {
   "cell_type": "code",
   "execution_count": 0,
   "metadata": {
    "application/vnd.databricks.v1+cell": {
     "cellMetadata": {
      "byteLimit": 2048000,
      "rowLimit": 10000
     },
     "inputWidgets": {},
     "nuid": "49e7074e-8147-4fd8-b15c-83b4103f0635",
     "showTitle": false,
     "tableResultSettingsMap": {},
     "title": ""
    }
   },
   "outputs": [],
   "source": [
    "from collections import defaultdict\n",
    "\n",
    "N_minus = defaultdict(set)\n",
    "for i, j in edges:\n",
    "    if j in tier1 + tier2:\n",
    "        N_minus[j].add(supplier_part_type[i])\n",
    "N_minus = {node: sorted(list(parts)) for node, parts in N_minus.items()}\n",
    "\n",
    "N_plus = defaultdict(set)\n",
    "for i, j in edges:\n",
    "    if i in tier2 + tier3:\n",
    "        N_plus[i].add(j)\n",
    "N_plus = {node: sorted(list(childs)) for node, childs in N_plus.items()}\n",
    "\n",
    "# parent nodes of node j of part type k: dict  (j,k) ↦ list_of_i  (𝒫_{jk})\n",
    "P = defaultdict(list)\n",
    "for i, j in edges:\n",
    "    if j in tier1 + tier2:\n",
    "        P[(j, supplier_part_type[i])].append(i)"
   ]
  },
  {
   "cell_type": "code",
   "execution_count": 0,
   "metadata": {
    "application/vnd.databricks.v1+cell": {
     "cellMetadata": {},
     "inputWidgets": {},
     "nuid": "a77ffeaa-8a96-45f5-894c-80cacce9d319",
     "showTitle": false,
     "tableResultSettingsMap": {},
     "title": ""
    }
   },
   "outputs": [],
   "source": [
    "# optimisation_model.py\n",
    "from pyomo.environ import *"
   ]
  },
  {
   "cell_type": "code",
   "execution_count": 0,
   "metadata": {
    "application/vnd.databricks.v1+cell": {
     "cellMetadata": {
      "byteLimit": 2048000,
      "rowLimit": 10000
     },
     "inputWidgets": {},
     "nuid": "93f2ef3c-dffb-40bb-99ac-d04f25631f91",
     "showTitle": false,
     "tableResultSettingsMap": {},
     "title": ""
    }
   },
   "outputs": [],
   "source": [
    "# ------------------------------------------------------------------\n",
    "# 1.  Prepare your data  (⇦ replace the dummy placeholders)\n",
    "# ------------------------------------------------------------------\n",
    "data = {\n",
    "    # elementary sets ------------------------------------------------\n",
    "    'V'      : tier1,               # product nodes\n",
    "    'D'      : tier1 + tier2,       # all BUT leaf nodes\n",
    "    'U'      : tier2 + tier3,       # all BUT product nodes\n",
    "    'K'      : part_types,          # part types  (k ∈ 𝒩⁻(j))\n",
    "    'S'      : disrupted,           # disrupted nodes in scenario n\n",
    "    # nested sets ----------------------------------------------------\n",
    "    'N_minus' : N_minus,         # parts required to produce node j: dict  j ↦ list_of_k   (𝒩⁻(j))\n",
    "    'N_plus'  : N_plus,          # child nodes of node i: dict  i ↦ list_of_j   (𝒩⁺(i))\n",
    "    'P'       : P,               # parent nodes of node j of part type k: dict  (j,k) ↦ list_of_i  (𝒫_{jk})\n",
    "    # parameters -----------------------------------------------------\n",
    "    'f'  : f,    # profit margin of 1 unit of j\n",
    "    's'  : s,    # finished-goods inventory of i\n",
    "    't'  : t,    # TTR for disruption scenario n   (a scalar)\n",
    "    'd'  : d,    # demand for j per TTR\n",
    "    'c'  : c,    # plant capacity per TTR\n",
    "}"
   ]
  },
  {
   "cell_type": "code",
   "execution_count": 0,
   "metadata": {
    "application/vnd.databricks.v1+cell": {
     "cellMetadata": {
      "byteLimit": 2048000,
      "rowLimit": 10000
     },
     "inputWidgets": {},
     "nuid": "5a4fb85e-f2b1-48eb-a308-2aa0a8be71b2",
     "showTitle": false,
     "tableResultSettingsMap": {},
     "title": ""
    }
   },
   "outputs": [],
   "source": [
    "# ------------------------------------------------------------------\n",
    "# 2.  Build the ConcreteModel\n",
    "# ------------------------------------------------------------------\n",
    "\n",
    "m = ConcreteModel()\n",
    "\n",
    "# ---- 2.1  sets ----------------------------------------------------\n",
    "m.V   = Set(initialize=data['V'])\n",
    "m.D   = Set(initialize=data['D'])\n",
    "m.U   = Set(initialize=data['U'])\n",
    "m.K   = Set(initialize=data['K'])\n",
    "m.S   = Set(initialize=data['S'])\n",
    "\n",
    "m.N_minus = Set(m.D, initialize=lambda mdl, j: data['N_minus'][j])\n",
    "m.N_plus  = Set(m.U, initialize=lambda mdl, i: data['N_plus'][i])\n",
    "\n",
    "# handy union of *all* nodes that may carry production volume\n",
    "m.NODES = pyo.Set(initialize=list(\n",
    "        set(data['V']) | set(data['U'])\n",
    "    ))\n",
    "\n",
    "# 𝒫_{jk} as map (j,k) → list_of_i\n",
    "m.P = Set(dimen=3, initialize=[\n",
    "        (i, j, k)\n",
    "        for (j, k), I in data['P'].items()\n",
    "        for i in I\n",
    "    ])\n",
    "\n",
    "# ---- 2.2  parameters ---------------------------------------------\n",
    "m.f = Param(m.V, initialize=data['f'], within=NonNegativeReals)          # impact (profit margin)\n",
    "m.s = Param(m.NODES, initialize=data['s'], within=NonNegativeIntegers)\n",
    "m.t = Param(initialize=data['t'], within=PositiveReals)\n",
    "m.d = Param(m.V, initialize=data['d'], within=NonNegativeIntegers)\n",
    "m.c = Param(m.NODES, initialize=data['c'], within=NonNegativeIntegers)\n",
    "\n",
    "# ---- 2.3  decision variables -------------------------------------\n",
    "m.u = Var(m.NODES, domain=NonNegativeIntegers)      # production quantity of node i\n",
    "m.l = Var(m.V, domain=NonNegativeIntegers)          # lost volume of product j\n",
    "# y is only needed for (i,j) pairs that actually make sense\n",
    "m.y_index = Set(within=m.U * m.NODES, initialize=lambda mdl: [\n",
    "        (i, j) for i in mdl.U for j in mdl.N_plus[i]\n",
    "    ])\n",
    "m.y = Var(m.y_index, domain=NonNegativeIntegers)"
   ]
  },
  {
   "cell_type": "code",
   "execution_count": 0,
   "metadata": {
    "application/vnd.databricks.v1+cell": {
     "cellMetadata": {
      "byteLimit": 2048000,
      "rowLimit": 10000
     },
     "inputWidgets": {},
     "nuid": "8b5cd29c-07ee-482f-9d3e-fbb5d9809c1a",
     "showTitle": false,
     "tableResultSettingsMap": {},
     "title": ""
    }
   },
   "outputs": [],
   "source": [
    "# ------------------------------------------------------------------\n",
    "# 3.  objective\n",
    "# ------------------------------------------------------------------\n",
    "\n",
    "def obj_rule(mdl):\n",
    "    return sum(mdl.f[j] * mdl.l[j] for j in mdl.V)\n",
    "m.OBJ = Objective(rule=obj_rule, sense=minimize)"
   ]
  },
  {
   "cell_type": "code",
   "execution_count": 0,
   "metadata": {
    "application/vnd.databricks.v1+cell": {
     "cellMetadata": {
      "byteLimit": 2048000,
      "rowLimit": 10000
     },
     "inputWidgets": {},
     "nuid": "d7f701bf-d3a8-435b-bbe2-6b5c09036485",
     "showTitle": false,
     "tableResultSettingsMap": {},
     "title": ""
    }
   },
   "outputs": [],
   "source": [
    "# ------------------------------------------------------------------\n",
    "# 4.  constraints\n",
    "# ------------------------------------------------------------------\n",
    "# u_j − Σ_{i∈𝒫_{jk}} y_ij  ≤ 0,           ∀j∈𝒟, ∀k∈𝒩⁻(j)\n",
    "def bom_production_rule(mdl, j, k):\n",
    "    rhs = sum(mdl.y[i, j] for i in data['P'][(j, k)])\n",
    "    return mdl.u[j] - rhs <= 0\n",
    "m.BomProduction = Constraint([(j, k) for j in m.D for k in m.N_minus[j]], rule=bom_production_rule)\n",
    "\n",
    "# Σ_{j∈𝒩⁺(i)} y_ij − u_i ≤ s_i,            ∀ i∈𝒰\n",
    "def flow_balance_rule(mdl, i):\n",
    "    return sum(mdl.y[i, j] for j in mdl.N_plus[i]) - mdl.u[i] <= mdl.s[i]\n",
    "m.FlowBalance = Constraint(m.U, rule=flow_balance_rule)\n",
    "\n",
    "# u_j = 0,                                 ∀ j∈𝒮⁽ⁿ⁾\n",
    "m.Disrupted = Constraint(m.S, rule=lambda m, j: m.u[j] == 0)\n",
    "\n",
    "# l_j + u_j + s_j ≥ d_j · t⁽ⁿ⁾,            ∀ j∈𝒱\n",
    "def demand_rule(mdl, j):\n",
    "    return mdl.l[j] + mdl.u[j] + mdl.s[j] >= mdl.d[j] * mdl.t\n",
    "m.Demand = Constraint(m.V, rule=demand_rule)\n",
    "\n",
    "# Σ_{k∈𝒜_α} u_k ≤ c_α · t⁽ⁿ⁾,                ∀ j∈NODES\n",
    "def capacity_rule(mdl, j):\n",
    "    return mdl.u[j] <= mdl.c[j] * mdl.t\n",
    "m.Capacity = Constraint(m.NODES, rule=capacity_rule)"
   ]
  },
  {
   "cell_type": "code",
   "execution_count": 0,
   "metadata": {
    "application/vnd.databricks.v1+cell": {
     "cellMetadata": {
      "byteLimit": 2048000,
      "rowLimit": 10000
     },
     "inputWidgets": {},
     "nuid": "63b52189-6a3f-40bf-bff6-8c55c6564735",
     "showTitle": false,
     "tableResultSettingsMap": {},
     "title": ""
    }
   },
   "outputs": [],
   "source": [
    "# ------------------------------------------------------------------\n",
    "# 5.  solve\n",
    "# ------------------------------------------------------------------\n",
    "if __name__ == \"__main__\":\n",
    "    # choose any LP/MIP solver that Pyomo can see (CBC, Gurobi, CPLEX, HiGHS, …)\n",
    "    solver = SolverFactory(\"cbc\")      # just an example\n",
    "    result = solver.solve(m, tee=True)\n",
    "    m.display()                        # quick sanity-check of results\n"
   ]
  },
  {
   "cell_type": "code",
   "execution_count": 0,
   "metadata": {
    "application/vnd.databricks.v1+cell": {
     "cellMetadata": {},
     "inputWidgets": {},
     "nuid": "5212af77-e8ff-4525-8bed-c26ed532d300",
     "showTitle": false,
     "tableResultSettingsMap": {},
     "title": ""
    }
   },
   "outputs": [],
   "source": []
  }
 ],
 "metadata": {
  "application/vnd.databricks.v1+notebook": {
   "computePreferences": null,
   "dashboards": [],
   "environmentMetadata": {
    "base_environment": "",
    "environment_version": "2"
   },
   "inputWidgetPreferences": null,
   "language": "python",
   "notebookMetadata": {
    "mostRecentlyExecutedCommandWithImplicitDF": {
     "commandId": 2275659825060403,
     "dataframes": [
      "_sqldf"
     ]
    },
    "pythonIndentUnit": 2
   },
   "notebookName": "01_Multi-Tier TTR Model",
   "widgets": {}
  },
  "language_info": {
   "name": "python"
  }
 },
 "nbformat": 4,
 "nbformat_minor": 0
}
