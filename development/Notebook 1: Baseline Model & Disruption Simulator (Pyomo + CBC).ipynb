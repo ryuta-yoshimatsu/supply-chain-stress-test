{
 "cells": [
  {
   "cell_type": "markdown",
   "metadata": {
    "application/vnd.databricks.v1+cell": {
     "cellMetadata": {
      "byteLimit": 2048000,
      "rowLimit": 10000
     },
     "inputWidgets": {},
     "nuid": "93dcc7c3-b96c-4533-b803-8ecfb9dc8de6",
     "showTitle": false,
     "tableResultSettingsMap": {},
     "title": ""
    }
   },
   "source": [
    "**Notebook 1: Setting the Scene**¡\n",
    "\n",
    "This notebook sets up a supply chain optimization model using Pyomo and the CBC solver to simulate and stress-test a simple supply network consisting of suppliers, factories, and customers. The core idea is to model how products flow through the network—accounting for costs, capacity constraints, and potential disruptions like factory outages—and then optimize operations to minimize total cost. It includes logic for handling surge capacity (extra capacity at factories), penalties for unmet customer demand, and a scenario runner that logs results to MLflow for tracking. The simulations include a baseline (everything working fine) and two stress scenarios where one factory is taken offline to observe how the network adapts and what the cost and unmet demand implications are. Think of it as a mini digital twin of a supply chain, built to poke it with a stick and see where it breaks."
   ]
  },
  {
   "cell_type": "markdown",
   "metadata": {
    "application/vnd.databricks.v1+cell": {
     "cellMetadata": {
      "byteLimit": 2048000,
      "rowLimit": 10000
     },
     "inputWidgets": {},
     "nuid": "566ba0e0-7ad7-4de6-82d1-2b07a288a2e9",
     "showTitle": false,
     "tableResultSettingsMap": {},
     "title": ""
    }
   },
   "source": [
    "\n",
    "Use this HW configuration to test it\n",
    "\n",
    "**Cluster:**\n",
    "- Single-node \n",
    "- Runtime: Databricks Runtime with ML (15.4 LTS)\n",
    "\n",
    "- Driver node:\n",
    "> - AWS: (Tried first with ) i3.2xlarge\n",
    "> - Azure: (Might be enough) Standard_DS4_v3\n",
    "- Workers: 0  \n",
    "\n",
    "Why: We’re solving small LP/MIP problems. No need to overprovision. \n",
    "\n",
    "**Libraries:**\n",
    "- pyomo (via %pip install pyomo)\n",
    "- CBC installed via init script ( you can find it  in the same directory as this notebook) \n",
    "\n"
   ]
  },
  {
   "cell_type": "code",
   "execution_count": 0,
   "metadata": {
    "application/vnd.databricks.v1+cell": {
     "cellMetadata": {
      "byteLimit": 2048000,
      "rowLimit": 10000
     },
     "inputWidgets": {},
     "nuid": "3f50ae3c-4d7b-4211-a223-d0420bf486fa",
     "showTitle": true,
     "tableResultSettingsMap": {},
     "title": "Install pyomo and supporting libraries"
    }
   },
   "outputs": [],
   "source": [
    "%run \"./init\""
   ]
  },
  {
   "cell_type": "code",
   "execution_count": 0,
   "metadata": {
    "application/vnd.databricks.v1+cell": {
     "cellMetadata": {
      "byteLimit": 2048000,
      "rowLimit": 10000
     },
     "inputWidgets": {},
     "nuid": "b3049841-2871-46d5-8202-c71c103c53b1",
     "showTitle": true,
     "tableResultSettingsMap": {},
     "title": "⚙️ Part 4: Scenario Simulation Function"
    }
   },
   "outputs": [],
   "source": [
    "def run_scenario(scenario_name, factory_down=None, ttr=0):\n",
    "    cap = factory_capacity.copy()\n",
    "    extra = extra_capacity.copy()\n",
    "    \n",
    "    if factory_down:\n",
    "        cap[factory_down] = 0\n",
    "        extra[factory_down] = 0\n",
    "    \n",
    "    model = build_model(cap, extra)\n",
    "    solver = pyo.SolverFactory(\"cbc\")\n",
    "    result = solver.solve(model)\n",
    "\n",
    "    cost = pyo.value(model.obj)\n",
    "    unmet = sum(model.unmet[c].value for c in model.C)\n",
    "    extra_used = {f: model.extra_used[f].value for f in model.F}\n",
    "\n",
    "    mlflow.log_param(\"scenario\", scenario_name)\n",
    "    mlflow.log_param(\"factory_down\", factory_down or \"None\")\n",
    "    mlflow.log_metric(\"total_cost\", cost)\n",
    "    mlflow.log_metric(\"total_unmet_demand\", unmet)\n",
    "    for f, v in extra_used.items():\n",
    "        mlflow.log_metric(f\"extra_used_{f}\", v)\n",
    "\n",
    "    return {\n",
    "        \"scenario\": scenario_name,\n",
    "        \"cost\": cost,\n",
    "        \"unmet\": unmet,\n",
    "        \"extra_used\": extra_used\n",
    "    }"
   ]
  },
  {
   "cell_type": "code",
   "execution_count": 0,
   "metadata": {
    "application/vnd.databricks.v1+cell": {
     "cellMetadata": {
      "byteLimit": 2048000,
      "rowLimit": 10000
     },
     "inputWidgets": {},
     "nuid": "d5e22470-3b44-4d97-a474-1dc4663bd3e6",
     "showTitle": false,
     "tableResultSettingsMap": {},
     "title": ""
    }
   },
   "outputs": [],
   "source": [
    "\n",
    "experiment = mlflow.get_experiment_by_name(experiment_name)\n",
    "\n",
    "if experiment:\n",
    "    mlflow.delete_experiment(experiment.experiment_id)\n",
    "\n",
    "mlflow.set_experiment(experiment_name)\n",
    "\n",
    "with mlflow.start_run(run_name=\"Baseline\"):\n",
    "    baseline_results = run_scenario(\"Baseline\")\n",
    "\n",
    "with mlflow.start_run(run_name=\"F1_Down\"):\n",
    "    f1_results = run_scenario(\"F1_Down\", factory_down=\"F1\")\n",
    "\n",
    "with mlflow.start_run(run_name=\"F2_Down\"):\n",
    "    f2_results = run_scenario(\"F2_Down\", factory_down=\"F2\")"
   ]
  }
 ],
 "metadata": {
  "application/vnd.databricks.v1+notebook": {
   "computePreferences": null,
   "dashboards": [],
   "environmentMetadata": {
    "base_environment": "",
    "environment_version": "2"
   },
   "inputWidgetPreferences": null,
   "language": "python",
   "notebookMetadata": {
    "mostRecentlyExecutedCommandWithImplicitDF": {
     "commandId": 457628674482732,
     "dataframes": [
      "_sqldf"
     ]
    },
    "pythonIndentUnit": 2
   },
   "notebookName": "Notebook 1: Baseline Model & Disruption Simulator (Pyomo + CBC)",
   "widgets": {}
  },
  "language_info": {
   "name": "python"
  }
 },
 "nbformat": 4,
 "nbformat_minor": 0
}
