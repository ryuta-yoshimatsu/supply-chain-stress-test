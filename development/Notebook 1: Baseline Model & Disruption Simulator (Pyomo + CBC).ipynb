{
 "cells": [
  {
   "cell_type": "markdown",
   "metadata": {
    "application/vnd.databricks.v1+cell": {
     "cellMetadata": {
      "byteLimit": 2048000,
      "rowLimit": 10000
     },
     "inputWidgets": {},
     "nuid": "93dcc7c3-b96c-4533-b803-8ecfb9dc8de6",
     "showTitle": false,
     "tableResultSettingsMap": {},
     "title": ""
    }
   },
   "source": [
    "**Notebook 1: Setting the Scene**¡\n",
    "\n",
    "This notebook sets up a supply chain optimization model using Pyomo and the CBC solver to simulate and stress-test a simple supply network consisting of suppliers, factories, and customers. The core idea is to model how products flow through the network—accounting for costs, capacity constraints, and potential disruptions like factory outages—and then optimize operations to minimize total cost. It includes logic for handling surge capacity (extra capacity at factories), penalties for unmet customer demand, and a scenario runner that logs results to MLflow for tracking. The simulations include a baseline (everything working fine) and two stress scenarios where one factory is taken offline to observe how the network adapts and what the cost and unmet demand implications are. Think of it as a mini digital twin of a supply chain, built to poke it with a stick and see where it breaks."
   ]
  },
  {
   "cell_type": "markdown",
   "metadata": {
    "application/vnd.databricks.v1+cell": {
     "cellMetadata": {
      "byteLimit": 2048000,
      "rowLimit": 10000
     },
     "inputWidgets": {},
     "nuid": "566ba0e0-7ad7-4de6-82d1-2b07a288a2e9",
     "showTitle": false,
     "tableResultSettingsMap": {},
     "title": ""
    }
   },
   "source": [
    "\n",
    "Use this HW configuration to test it\n",
    "\n",
    "**Cluster:**\n",
    "- Single-node \n",
    "- Runtime: Databricks Runtime with ML (15.4 LTS)\n",
    "\n",
    "- Driver node:\n",
    "> - AWS: (Tried first with ) i3.2xlarge\n",
    "> - Azure: (Might be enough) Standard_DS4_v3\n",
    "- Workers: 0  \n",
    "\n",
    "Why: We’re solving small LP/MIP problems. No need to overprovision. \n",
    "\n",
    "**Libraries:**\n",
    "- pyomo (via %pip install pyomo)\n",
    "- CBC installed via init script ( you can find it  in the same directory as this notebook) \n",
    "\n"
   ]
  },
  {
   "cell_type": "code",
   "execution_count": 0,
   "metadata": {
    "application/vnd.databricks.v1+cell": {
     "cellMetadata": {
      "byteLimit": 2048000,
      "rowLimit": 10000
     },
     "inputWidgets": {},
     "nuid": "3f50ae3c-4d7b-4211-a223-d0420bf486fa",
     "showTitle": true,
     "tableResultSettingsMap": {},
     "title": "Install Pyomo"
    }
   },
   "outputs": [],
   "source": [
    "# Install Pyomo \n",
    "%pip install pyomo"
   ]
  },
  {
   "cell_type": "code",
   "execution_count": 0,
   "metadata": {
    "application/vnd.databricks.v1+cell": {
     "cellMetadata": {
      "byteLimit": 2048000,
      "rowLimit": 10000
     },
     "inputWidgets": {},
     "nuid": "b21869e9-32de-48ce-ad8e-392425be36ea",
     "showTitle": false,
     "tableResultSettingsMap": {},
     "title": ""
    }
   },
   "outputs": [],
   "source": [
    "dbutils.library.restartPython()"
   ]
  },
  {
   "cell_type": "code",
   "execution_count": 0,
   "metadata": {
    "application/vnd.databricks.v1+cell": {
     "cellMetadata": {
      "byteLimit": 2048000,
      "rowLimit": 10000
     },
     "inputWidgets": {},
     "nuid": "ef9bf044-ccc7-4f85-83dc-dd2b18cc21c8",
     "showTitle": true,
     "tableResultSettingsMap": {},
     "title": "🧱  Checks CBC is installed"
    }
   },
   "outputs": [],
   "source": [
    "%sh cbc"
   ]
  },
  {
   "cell_type": "code",
   "execution_count": 0,
   "metadata": {
    "application/vnd.databricks.v1+cell": {
     "cellMetadata": {
      "byteLimit": 2048000,
      "rowLimit": 10000
     },
     "inputWidgets": {},
     "nuid": "934b9b77-b9a3-42a3-bb4b-2d0a25e78d2f",
     "showTitle": true,
     "tableResultSettingsMap": {},
     "title": "🧱 Part 1: Setup"
    }
   },
   "outputs": [],
   "source": [
    "import pyomo.environ as pyo\n",
    "import pandas as pd\n",
    "import numpy as np\n",
    "import mlflow\n",
    "import os"
   ]
  },
  {
   "cell_type": "code",
   "execution_count": 0,
   "metadata": {
    "application/vnd.databricks.v1+cell": {
     "cellMetadata": {
      "byteLimit": 2048000,
      "rowLimit": 10000
     },
     "inputWidgets": {},
     "nuid": "d64814d6-424b-4f3b-9813-3132734c7aa5",
     "showTitle": true,
     "tableResultSettingsMap": {},
     "title": "🏗️ Part 2: Synthetic Network Data (Suppliers → Factories → Customers)"
    }
   },
   "outputs": [],
   "source": [
    "suppliers = ['S1', 'S2']\n",
    "factories = ['F1', 'F2']\n",
    "customers = ['C1', 'C2']\n",
    "\n",
    "# Sample demands\n",
    "demand = {'C1': 40, 'C2': 50}\n",
    "\n",
    "# Factory capacity (can be disrupted)\n",
    "factory_capacity = {'F1': 60, 'F2': 70}\n",
    "extra_capacity = {'F1': 20, 'F2': 30}  # dynamic surge capacity\n",
    "\n",
    "# Cost per unit\n",
    "ship_cost = {\n",
    "    ('S1', 'F1'): 2, ('S1', 'F2'): 3,\n",
    "    ('S2', 'F1'): 4, ('S2', 'F2'): 2,\n",
    "    ('F1', 'C1'): 1, ('F1', 'C2'): 2,\n",
    "    ('F2', 'C1'): 3, ('F2', 'C2'): 1,\n",
    "}\n",
    "\n",
    "# Cost multipliers\n",
    "extra_cost = {'F1': 5, 'F2': 5}\n",
    "unmet_penalty = 100"
   ]
  },
  {
   "cell_type": "code",
   "execution_count": 0,
   "metadata": {
    "application/vnd.databricks.v1+cell": {
     "cellMetadata": {
      "byteLimit": 2048000,
      "rowLimit": 10000
     },
     "inputWidgets": {},
     "nuid": "4569ddd1-32ee-49be-9f84-a44a19a8876e",
     "showTitle": true,
     "tableResultSettingsMap": {},
     "title": "🧠 Part 3: Pyomo Model Builder (Reusable Function)"
    }
   },
   "outputs": [],
   "source": [
    "def build_model(factory_caps, extra_caps):\n",
    "    model = pyo.ConcreteModel()\n",
    "    model.S = pyo.Set(initialize=suppliers)\n",
    "    model.F = pyo.Set(initialize=factories)\n",
    "    model.C = pyo.Set(initialize=customers)\n",
    "    \n",
    "    model.demand = pyo.Param(model.C, initialize=demand)\n",
    "    model.factory_cap = pyo.Param(model.F, initialize=factory_caps, mutable=True)\n",
    "    model.extra_cap = pyo.Param(model.F, initialize=extra_caps, mutable=True)\n",
    "    model.ship_cost = pyo.Param(model.S * model.F | model.F * model.C, initialize=ship_cost)\n",
    "    model.extra_cost = pyo.Param(model.F, initialize=extra_cost)\n",
    "    \n",
    "    # Vars\n",
    "    model.x_sf = pyo.Var(model.S, model.F, domain=pyo.NonNegativeReals)\n",
    "    model.x_fc = pyo.Var(model.F, model.C, domain=pyo.NonNegativeReals)\n",
    "    model.extra_used = pyo.Var(model.F, domain=pyo.NonNegativeReals)\n",
    "    model.unmet = pyo.Var(model.C, domain=pyo.NonNegativeReals)\n",
    "    \n",
    "    # Flow into factories must equal flow out\n",
    "    def flow_balance_rule(m, f):\n",
    "        return sum(m.x_sf[s, f] for s in m.S) == sum(m.x_fc[f, c] for c in m.C)\n",
    "    model.flow_balance = pyo.Constraint(model.F, rule=flow_balance_rule)\n",
    "\n",
    "    # Factory capacity constraint\n",
    "    def cap_rule(m, f):\n",
    "        return sum(m.x_fc[f, c] for c in m.C) <= m.factory_cap[f] + m.extra_used[f]\n",
    "    model.cap = pyo.Constraint(model.F, rule=cap_rule)\n",
    "\n",
    "    # Extra capacity limits\n",
    "    def extra_limit(m, f):\n",
    "        return m.extra_used[f] <= m.extra_cap[f]\n",
    "    model.extra_limit = pyo.Constraint(model.F, rule=extra_limit)\n",
    "\n",
    "    # Demand fulfillment\n",
    "    def demand_rule(m, c):\n",
    "        return sum(m.x_fc[f, c] for f in m.F) + m.unmet[c] == m.demand[c]\n",
    "    model.demand_fill = pyo.Constraint(model.C, rule=demand_rule)\n",
    "    \n",
    "    # Objective: total cost\n",
    "    model.obj = pyo.Objective(\n",
    "        expr = sum(model.ship_cost[s, f] * model.x_sf[s, f] for s in model.S for f in model.F) +\n",
    "               sum(model.ship_cost[f, c] * model.x_fc[f, c] for f in model.F for c in model.C) +\n",
    "               sum(model.extra_cost[f] * model.extra_used[f] for f in model.F) +\n",
    "               sum(unmet_penalty * model.unmet[c] for c in model.C),\n",
    "        sense=pyo.minimize\n",
    "    )\n",
    "\n",
    "    return model\n",
    "    \n",
    "    return model"
   ]
  },
  {
   "cell_type": "code",
   "execution_count": 0,
   "metadata": {
    "application/vnd.databricks.v1+cell": {
     "cellMetadata": {
      "byteLimit": 2048000,
      "rowLimit": 10000
     },
     "inputWidgets": {},
     "nuid": "b3049841-2871-46d5-8202-c71c103c53b1",
     "showTitle": true,
     "tableResultSettingsMap": {},
     "title": "⚙️ Part 4: Scenario Simulation Function"
    }
   },
   "outputs": [],
   "source": [
    "def run_scenario(scenario_name, factory_down=None, ttr=0):\n",
    "    cap = factory_capacity.copy()\n",
    "    extra = extra_capacity.copy()\n",
    "    \n",
    "    if factory_down:\n",
    "        cap[factory_down] = 0\n",
    "        extra[factory_down] = 0\n",
    "    \n",
    "    model = build_model(cap, extra)\n",
    "    solver = pyo.SolverFactory(\"cbc\")\n",
    "    result = solver.solve(model)\n",
    "\n",
    "    cost = pyo.value(model.obj)\n",
    "    unmet = sum(model.unmet[c].value for c in model.C)\n",
    "    extra_used = {f: model.extra_used[f].value for f in model.F}\n",
    "\n",
    "    mlflow.log_param(\"scenario\", scenario_name)\n",
    "    mlflow.log_param(\"factory_down\", factory_down or \"None\")\n",
    "    mlflow.log_metric(\"total_cost\", cost)\n",
    "    mlflow.log_metric(\"total_unmet_demand\", unmet)\n",
    "    for f, v in extra_used.items():\n",
    "        mlflow.log_metric(f\"extra_used_{f}\", v)\n",
    "\n",
    "    return {\n",
    "        \"scenario\": scenario_name,\n",
    "        \"cost\": cost,\n",
    "        \"unmet\": unmet,\n",
    "        \"extra_used\": extra_used\n",
    "    }"
   ]
  },
  {
   "cell_type": "code",
   "execution_count": 0,
   "metadata": {
    "application/vnd.databricks.v1+cell": {
     "cellMetadata": {
      "byteLimit": 2048000,
      "rowLimit": 10000
     },
     "inputWidgets": {},
     "nuid": "d5e22470-3b44-4d97-a474-1dc4663bd3e6",
     "showTitle": false,
     "tableResultSettingsMap": {},
     "title": ""
    }
   },
   "outputs": [],
   "source": [
    "mlflow.set_experiment(\"/SupplyChainStressTest\")\n",
    "\n",
    "with mlflow.start_run(run_name=\"Baseline\"):\n",
    "    baseline_results = run_scenario(\"Baseline\")\n",
    "\n",
    "with mlflow.start_run(run_name=\"F1_Down\"):\n",
    "    f1_results = run_scenario(\"F1_Down\", factory_down=\"F1\")\n",
    "\n",
    "with mlflow.start_run(run_name=\"F2_Down\"):\n",
    "    f2_results = run_scenario(\"F2_Down\", factory_down=\"F2\")\n"
   ]
  }
 ],
 "metadata": {
  "application/vnd.databricks.v1+notebook": {
   "computePreferences": null,
   "dashboards": [],
   "environmentMetadata": {
    "base_environment": "",
    "environment_version": "2"
   },
   "inputWidgetPreferences": null,
   "language": "python",
   "notebookMetadata": {
    "mostRecentlyExecutedCommandWithImplicitDF": {
     "commandId": 3667638036672535,
     "dataframes": [
      "_sqldf"
     ]
    },
    "pythonIndentUnit": 2
   },
   "notebookName": "Notebook 1: Baseline Model & Disruption Simulator (Pyomo + CBC)",
   "widgets": {}
  },
  "language_info": {
   "name": "python"
  }
 },
 "nbformat": 4,
 "nbformat_minor": 0
}
