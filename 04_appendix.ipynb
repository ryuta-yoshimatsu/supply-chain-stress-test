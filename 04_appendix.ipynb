{
 "cells": [
  {
   "cell_type": "markdown",
   "metadata": {
    "application/vnd.databricks.v1+cell": {
     "cellMetadata": {},
     "inputWidgets": {},
     "nuid": "fb1d2825-37c7-4aeb-be3d-f6a76872cb90",
     "showTitle": false,
     "tableResultSettingsMap": {},
     "title": ""
    }
   },
   "source": [
    "This solution accelerator notebook is available at [Databricks Industry Solutions](https://github.com/databricks-industry-solutions/)."
   ]
  },
  {
   "cell_type": "markdown",
   "metadata": {
    "application/vnd.databricks.v1+cell": {
     "cellMetadata": {},
     "inputWidgets": {},
     "nuid": "f834b60f-1a80-4cde-9ab2-53330e811cfd",
     "showTitle": false,
     "tableResultSettingsMap": {},
     "title": ""
    }
   },
   "source": [
    "# Appendix\n",
    "\n",
    "In this notebook, we explore the mathematical formulation of the optimization problem, define the variables and discuss key assumptions. This solution accelerator is based closely on the models presented in the [paper](https://dspace.mit.edu/handle/1721.1/101782) (with slight modifications), and we recommend referring to it for further details.\n"
   ]
  },
  {
   "cell_type": "markdown",
   "metadata": {
    "application/vnd.databricks.v1+cell": {
     "cellMetadata": {},
     "inputWidgets": {},
     "nuid": "6f0bdb35-f319-4a1b-a4fa-e7569a00e9df",
     "showTitle": false,
     "tableResultSettingsMap": {},
     "title": ""
    }
   },
   "source": [
    "## Multi-Tier TTR Model\n",
    "\n",
    "The multi-tier time-to-recover (TTR) model represents a supply chain as a directed graph of materials and production sites. For a disruption lasting t, it selects production quantities (u), inter-tier flows (y), and lost demand (l) to minimize the total weighted loss across all finished products.\n",
    "\n",
    "**Constraints**:\n",
    "1. A bill-of-materials constraint limits each node’s output based on the most constrained upstream material.\n",
    "2. A flow-balance constraint caps shipments by available on-hand inventory plus new production.\n",
    "3. Disrupted nodes are assumed to produce nothing during the recovery period.\n",
    "4. Cumulative demand must be met by production and inventory, with unmet demand recorded as loss.\n",
    "5. Plant throughput is limited by production capacity.\n",
    "\n",
    "The resulting linear program remains computationally tractable even for supply chains with thousands of nodes."
   ]
  },
  {
   "cell_type": "markdown",
   "metadata": {
    "application/vnd.databricks.v1+cell": {
     "cellMetadata": {},
     "inputWidgets": {},
     "nuid": "818bec3b-c86f-4032-ab6f-3f0703f615a2",
     "showTitle": false,
     "tableResultSettingsMap": {},
     "title": ""
    }
   },
   "source": [
    "<img src=\"images/multi-tier-ttr.png\" alt=\"Multi-Tier TTR\" width=\"650\">"
   ]
  },
  {
   "cell_type": "markdown",
   "metadata": {
    "application/vnd.databricks.v1+cell": {
     "cellMetadata": {},
     "inputWidgets": {},
     "nuid": "b92a4b3d-c155-486b-a427-71c7e0164513",
     "showTitle": false,
     "tableResultSettingsMap": {},
     "title": ""
    }
   },
   "source": [
    "## Multi-Tier TTS Model\n",
    "\n",
    "The multi-tier time-to-survive (TTS) model asks: given a disruption at a specific node, how long can the network continue meeting demand with no lost sales? It employs the same directed-graph representation as the TTR model, but its linear program maximises the survival horizon, t, rather than minimising lost profit.\n",
    "\n",
    "**Constraints**: Identical to the TTR model except for the fourth, where no loss is allowed; demand must be fully satisfied."
   ]
  },
  {
   "cell_type": "markdown",
   "metadata": {
    "application/vnd.databricks.v1+cell": {
     "cellMetadata": {},
     "inputWidgets": {},
     "nuid": "7ba88e4c-5552-46d9-bafc-e16ff8ac529c",
     "showTitle": false,
     "tableResultSettingsMap": {},
     "title": ""
    }
   },
   "source": [
    "%md\n",
    "<img src=\"images/multi-tier-tts.png\" alt=\"Multi-Tier TTS\" width=\"650\">"
   ]
  },
  {
   "cell_type": "markdown",
   "metadata": {
    "application/vnd.databricks.v1+cell": {
     "cellMetadata": {},
     "inputWidgets": {},
     "nuid": "c2b408e2-568b-43cd-9a4c-d6d9c7476a97",
     "showTitle": false,
     "tableResultSettingsMap": {},
     "title": ""
    }
   },
   "source": [
    "## Assumptions\n",
    "\n",
    "In both the TTR and TTS models, we simplify by assuming that processing lead times are negligible compared to the disruption's impact. We further assume that the costs associated with rerouting materials and manufacturing changeovers are also negligible relative to the disruption's effect. These assumptions are often reasonable in the context of high-impact disruptions, where their effects far outweigh those of these secondary factors. See the [paper](https://dspace.mit.edu/handle/1721.1/101782) for more details."
   ]
  },
  {
   "cell_type": "markdown",
   "metadata": {
    "application/vnd.databricks.v1+cell": {
     "cellMetadata": {},
     "inputWidgets": {},
     "nuid": "d3d66eb6-ccfe-496c-9fcb-25e607c1f6c6",
     "showTitle": false,
     "tableResultSettingsMap": {},
     "title": ""
    }
   },
   "source": [
    "&copy; 2025 Databricks, Inc. All rights reserved. The source in this notebook is provided subject to the Databricks License [https://databricks.com/db-license-source].  All included or referenced third party libraries are subject to the licenses set forth below.\n",
    "\n",
    "| library                                | description             | license    | source                                              |\n",
    "|----------------------------------------|-------------------------|------------|-----------------------------------------------------|\n",
    "| pyomo | An object-oriented algebraic modeling language in Python for structured optimization problems | BSD | https://pypi.org/project/pyomo/\n",
    "| highspy | Linear optimization solver (HiGHS) | MIT | https://pypi.org/project/highspy/"
   ]
  }
 ],
 "metadata": {
  "application/vnd.databricks.v1+notebook": {
   "computePreferences": null,
   "dashboards": [],
   "environmentMetadata": null,
   "inputWidgetPreferences": null,
   "language": "python",
   "notebookMetadata": {},
   "notebookName": "04_appendix",
   "widgets": {}
  },
  "language_info": {
   "name": "python"
  }
 },
 "nbformat": 4,
 "nbformat_minor": 0
}
